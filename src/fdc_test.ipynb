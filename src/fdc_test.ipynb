{
 "cells": [
  {
   "cell_type": "code",
   "execution_count": 1,
   "metadata": {
    "collapsed": true,
    "pycharm": {
     "name": "#%%\n"
    }
   },
   "outputs": [],
   "source": [
    "from fdc_client import FdcClient\n",
    "from constants.fdc_constants import Meals\n",
    "api_key = 'KV2tU1GXpctVLUhg9btY30W2XGnqu5QGPFSeq8AL'"
   ]
  },
  {
   "cell_type": "code",
   "execution_count": 2,
   "outputs": [],
   "source": [
    "client = FdcClient(api_key)"
   ],
   "metadata": {
    "collapsed": false,
    "pycharm": {
     "name": "#%%\n"
    }
   }
  },
  {
   "cell_type": "code",
   "execution_count": 3,
   "outputs": [],
   "source": [
    "print(client.search_foods('flax oil', 1))"
   ],
   "metadata": {
    "collapsed": false,
    "pycharm": {
     "name": "#%%\n"
    }
   }
  },
  {
   "cell_type": "code",
   "execution_count": 4,
   "outputs": [],
   "source": [
    "id_amount = {\n",
    "    1101653: 100,\n",
    "    2266581: 100\n",
    "}\n",
    "print(client.get_foods(id_amount))"
   ],
   "metadata": {
    "collapsed": false,
    "pycharm": {
     "name": "#%%\n"
    }
   }
  },
  {
   "cell_type": "code",
   "execution_count": 6,
   "outputs": [
    {
     "name": "stdout",
     "output_type": "stream",
     "text": [
      "Meal: Bread with cheese and flax oil. Foods:\n",
      "100g of Bread, sunflower meal (id: 1100825, source: Survey (FNDDS))\n",
      "50g of Cheese, cottage, dry curd (id: 1098050, source: Survey (FNDDS))\n",
      "20g of Chives, raw (id: 1103349, source: Survey (FNDDS))\n",
      "10g of FLAX SEED OIL (id: 2058238, source: Branded)\n",
      "Water - 90.47g\n",
      "Energy - 431.0kcal\n",
      "Protein - 15.62g\n",
      "Total lipid (fat) - 18.49g\n",
      "Carbohydrate, by difference - 52.03g\n",
      "Fiber, total dietary - 3.2g\n",
      "Sugars, total including NLEA - 4.38g\n",
      "Calcium, Ca - 100.4mg\n",
      "Iron, Fe - 3.39mg\n",
      "Magnesium, Mg - 43.9mg\n",
      "Phosphorus, P - 303.6mg\n",
      "Potassium, K - 305.7mg\n",
      "Sodium, Na - 699.6mg\n",
      "Zinc, Zn - 1.51mg\n",
      "Copper, Cu - 0.35mg\n",
      "Selenium, Se - 36.68µg\n",
      "Vitamin C, total ascorbic acid - 11.82mg\n",
      "Thiamin - 0.48mg\n",
      "Riboflavin - 0.48mg\n",
      "Niacin - 5.13mg\n",
      "Vitamin B-6 - 0.15mg\n",
      "Folate, total - 136.5µg\n",
      "Folic acid - 62.0µg\n",
      "Folate, food - 75.5µg\n",
      "Folate, DFE - 179.5µg\n",
      "Choline, total - 24.09mg\n",
      "Vitamin B-12 - 0.29µg\n",
      "Vitamin B-12, added - 0.0µg\n",
      "Vitamin A, RAE - 61.6µg\n",
      "Retinol - 18.0µg\n",
      "Carotene, beta - 525.4µg\n",
      "Carotene, alpha - 0.0µg\n",
      "Cryptoxanthin, beta - 0.0µg\n",
      "Lycopene - 0.0µg\n",
      "Lutein + zeaxanthin - 106.6µg\n",
      "Vitamin E (alpha-tocopherol) - 3.05mg\n",
      "Vitamin E, added - 0.0mg\n",
      "Vitamin D (D2 + D3) - 0.2µg\n",
      "Vitamin K (phylloquinone) - 43.54µg\n",
      "Fatty acids, total saturated - 2.46g\n",
      "SFA 4:0 - 0.04g\n",
      "SFA 6:0 - 0.03g\n",
      "SFA 8:0 - 0.02g\n",
      "SFA 10:0 - 0.04g\n",
      "SFA 12:0 - 0.04g\n",
      "SFA 14:0 - 0.13g\n",
      "SFA 16:0 - 0.9g\n",
      "SFA 18:0 - 0.5g\n",
      "Fatty acids, total monounsaturated - 1.8g\n",
      "MUFA 16:1 - 0.04g\n",
      "MUFA 18:1 - 1.76g\n",
      "MUFA 20:1 - 0.01g\n",
      "MUFA 22:1 - 0.0g\n",
      "Fatty acids, total polyunsaturated - 4.16g\n",
      "PUFA 18:2 - 4.1g\n",
      "PUFA 18:3 - 0.06g\n",
      "PUFA 18:4 - 0.0g\n",
      "PUFA 20:4 - 0.0g\n",
      "PUFA 20:5 n-3 (EPA) - 0.0g\n",
      "PUFA 22:5 n-3 (DPA) - 0.0g\n",
      "PUFA 22:6 n-3 (DHA) - 0.0g\n",
      "Cholesterol - 7.5mg\n",
      "Alcohol, ethyl - 0.0g\n",
      "Caffeine - 0.0mg\n",
      "Theobromine - 0.0mg\n",
      "Fatty acids, total trans - 0.0g\n"
     ]
    }
   ],
   "source": [
    "diet = client.get_meals([Meals.BREAD_WITH_CHEESE_AND_FLAX_OIL])\n",
    "print(diet)\n",
    "diet.print_nutrients()"
   ],
   "metadata": {
    "collapsed": false,
    "pycharm": {
     "name": "#%%\n"
    }
   }
  }
 ],
 "metadata": {
  "kernelspec": {
   "display_name": "Python 3",
   "language": "python",
   "name": "python3"
  },
  "language_info": {
   "codemirror_mode": {
    "name": "ipython",
    "version": 2
   },
   "file_extension": ".py",
   "mimetype": "text/x-python",
   "name": "python",
   "nbconvert_exporter": "python",
   "pygments_lexer": "ipython2",
   "version": "2.7.6"
  }
 },
 "nbformat": 4,
 "nbformat_minor": 0
}