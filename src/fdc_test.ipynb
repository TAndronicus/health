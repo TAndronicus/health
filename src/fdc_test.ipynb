{
 "cells": [
  {
   "cell_type": "code",
   "execution_count": 1,
   "metadata": {
    "collapsed": true,
    "pycharm": {
     "name": "#%%\n"
    }
   },
   "outputs": [],
   "source": [
    "from fdc_client import FdcClient\n",
    "from constants.fdc_constants import Meals\n",
    "api_key = 'KV2tU1GXpctVLUhg9btY30W2XGnqu5QGPFSeq8AL'"
   ]
  },
  {
   "cell_type": "code",
   "execution_count": 2,
   "outputs": [],
   "source": [
    "client = FdcClient(api_key)"
   ],
   "metadata": {
    "collapsed": false,
    "pycharm": {
     "name": "#%%\n"
    }
   }
  },
  {
   "cell_type": "code",
   "execution_count": 3,
   "outputs": [
    {
     "name": "stdout",
     "output_type": "stream",
     "text": [
      "Page 1/1. Data:\n",
      "LADY FINGERS (id: 2008520, source: Branded)\n",
      "LADY FINGERS (id: 1946172, source: Branded)\n",
      "LADY FINGERS (id: 2186530, source: Branded)\n",
      "LADY FINGERS SAVOIARDI (id: 2072768, source: Branded)\n",
      "300 LADY FINGERS FROZEN (id: 614476, source: Branded)\n",
      "BISCOTTI SAVOIARDI LADY FINGERS (id: 2038864, source: Branded)\n",
      "BISCOTTI SAVOIARDI LADY FINGERS (id: 2304267, source: Branded)\n",
      "LADY FINGERS SPONGE CAKES (id: 2078431, source: Branded)\n",
      "WALNUT LADIES FINGER, WALNUT (id: 1935252, source: Branded)\n",
      "BELLINO, SAVOIARDI LADY FINGERS BISCUIT (id: 2012003, source: Branded)\n",
      "LADY SARAH, SHORTBREAD FINGERS COOKIES (id: 1873732, source: Branded)\n",
      "SPECIALTY BAKERS, LADY FINGERS CAKES (id: 2017637, source: Branded)\n",
      "TORINO, LADY FINGERS, ITALIAN SAVOIARDI (id: 2008736, source: Branded)\n",
      "FRIED LADIES FINGER (OKRA) COOKED IN A SPICY GRAVY (id: 643738, source: Branded)\n",
      "TIRAMISU LADY FINGER COOKIES LIGHTLY SOAKED IN COFFEE SYRUP, TOPPED WITH MASCARPONE MOUSSE AND A DUSTING OF COCOA POWDER, TIRAMISU (id: 1897495, source: Branded)\n",
      "RUSSO'S, TIRAMISU (id: 2061619, source: Branded)\n",
      "HAAGEN-DAZS, GELATO TIRAMISU, ITALIAN STYLE FROZEN DESSERT (id: 2111797, source: Branded)\n",
      "ITALIAN STYLE FROZEN DESSERT GELATO, TIRAMISU (id: 1929257, source: Branded)\n",
      "TIRAMISU (id: 1946131, source: Branded)\n",
      "\n"
     ]
    }
   ],
   "source": [
    "print(client.search_foods('lady fingers', 1))"
   ],
   "metadata": {
    "collapsed": false,
    "pycharm": {
     "name": "#%%\n"
    }
   }
  },
  {
   "cell_type": "code",
   "execution_count": 4,
   "outputs": [
    {
     "data": {
      "text/plain": "{'discontinuedDate': '',\n 'foodComponents': [],\n 'foodAttributes': [{'id': 2200205,\n   'value': 9,\n   'name': 'Added Package Weight'}],\n 'foodPortions': [],\n 'fdcId': 2008520,\n 'description': 'LADY FINGERS',\n 'publicationDate': '10/28/2021',\n 'foodNutrients': [{'type': 'FoodNutrient',\n   'nutrient': {'id': 1089,\n    'number': '303',\n    'name': 'Iron, Fe',\n    'rank': 5400,\n    'unitName': 'mg'},\n   'foodNutrientDerivation': {'id': 75,\n    'code': 'LCCD',\n    'description': 'Calculated from a daily value percentage per serving size measure'},\n   'id': 26255415,\n   'amount': 1.2},\n  {'type': 'FoodNutrient',\n   'nutrient': {'id': 1253,\n    'number': '601',\n    'name': 'Cholesterol',\n    'rank': 15700,\n    'unitName': 'mg'},\n   'foodNutrientDerivation': {'id': 70,\n    'code': 'LCCS',\n    'description': 'Calculated from value per serving size measure'},\n   'id': 26255419,\n   'amount': 100.0},\n  {'type': 'FoodNutrient',\n   'nutrient': {'id': 1258,\n    'number': '606',\n    'name': 'Fatty acids, total saturated',\n    'rank': 9700,\n    'unitName': 'g'},\n   'foodNutrientDerivation': {'id': 75,\n    'code': 'LCCD',\n    'description': 'Calculated from a daily value percentage per serving size measure'},\n   'id': 26255421,\n   'amount': 0.0},\n  {'type': 'FoodNutrient',\n   'nutrient': {'id': 1003,\n    'number': '203',\n    'name': 'Protein',\n    'rank': 600,\n    'unitName': 'g'},\n   'foodNutrientDerivation': {'id': 70,\n    'code': 'LCCS',\n    'description': 'Calculated from value per serving size measure'},\n   'id': 26255408,\n   'amount': 10.0},\n  {'type': 'FoodNutrient',\n   'nutrient': {'id': 1104,\n    'number': '318',\n    'name': 'Vitamin A, IU',\n    'rank': 7500,\n    'unitName': 'IU'},\n   'foodNutrientDerivation': {'id': 75,\n    'code': 'LCCD',\n    'description': 'Calculated from a daily value percentage per serving size measure'},\n   'id': 26255417,\n   'amount': 0.0},\n  {'type': 'FoodNutrient',\n   'nutrient': {'id': 1162,\n    'number': '401',\n    'name': 'Vitamin C, total ascorbic acid',\n    'rank': 6300,\n    'unitName': 'mg'},\n   'foodNutrientDerivation': {'id': 75,\n    'code': 'LCCD',\n    'description': 'Calculated from a daily value percentage per serving size measure'},\n   'id': 26255418,\n   'amount': 0.0},\n  {'type': 'FoodNutrient',\n   'nutrient': {'id': 1087,\n    'number': '301',\n    'name': 'Calcium, Ca',\n    'rank': 5300,\n    'unitName': 'mg'},\n   'foodNutrientDerivation': {'id': 75,\n    'code': 'LCCD',\n    'description': 'Calculated from a daily value percentage per serving size measure'},\n   'id': 26255414,\n   'amount': 0.0},\n  {'type': 'FoodNutrient',\n   'nutrient': {'id': 1093,\n    'number': '307',\n    'name': 'Sodium, Na',\n    'rank': 5800,\n    'unitName': 'mg'},\n   'foodNutrientDerivation': {'id': 70,\n    'code': 'LCCS',\n    'description': 'Calculated from value per serving size measure'},\n   'id': 26255416,\n   'amount': 150.0},\n  {'type': 'FoodNutrient',\n   'nutrient': {'id': 1004,\n    'number': '204',\n    'name': 'Total lipid (fat)',\n    'rank': 800,\n    'unitName': 'g'},\n   'foodNutrientDerivation': {'id': 70,\n    'code': 'LCCS',\n    'description': 'Calculated from value per serving size measure'},\n   'id': 26255409,\n   'amount': 3.33},\n  {'type': 'FoodNutrient',\n   'nutrient': {'id': 1079,\n    'number': '291',\n    'name': 'Fiber, total dietary',\n    'rank': 1200,\n    'unitName': 'g'},\n   'foodNutrientDerivation': {'id': 70,\n    'code': 'LCCS',\n    'description': 'Calculated from value per serving size measure'},\n   'id': 26255413,\n   'amount': 3.3},\n  {'type': 'FoodNutrient',\n   'nutrient': {'id': 2000,\n    'number': '269',\n    'name': 'Sugars, total including NLEA',\n    'rank': 1510,\n    'unitName': 'g'},\n   'foodNutrientDerivation': {'id': 70,\n    'code': 'LCCS',\n    'description': 'Calculated from value per serving size measure'},\n   'id': 26255412,\n   'amount': 43.33},\n  {'type': 'FoodNutrient',\n   'nutrient': {'id': 1008,\n    'number': '208',\n    'name': 'Energy',\n    'rank': 300,\n    'unitName': 'kcal'},\n   'foodNutrientDerivation': {'id': 70,\n    'code': 'LCCS',\n    'description': 'Calculated from value per serving size measure'},\n   'id': 26255411,\n   'amount': 367.0},\n  {'type': 'FoodNutrient',\n   'nutrient': {'id': 1257,\n    'number': '605',\n    'name': 'Fatty acids, total trans',\n    'rank': 15400,\n    'unitName': 'g'},\n   'foodNutrientDerivation': {'id': 70,\n    'code': 'LCCS',\n    'description': 'Calculated from value per serving size measure'},\n   'id': 26255420,\n   'amount': 0.0},\n  {'type': 'FoodNutrient',\n   'nutrient': {'id': 1005,\n    'number': '205',\n    'name': 'Carbohydrate, by difference',\n    'rank': 1110,\n    'unitName': 'g'},\n   'foodNutrientDerivation': {'id': 70,\n    'code': 'LCCS',\n    'description': 'Calculated from value per serving size measure'},\n   'id': 26255410,\n   'amount': 76.67}],\n 'dataType': 'Branded',\n 'foodClass': 'Branded',\n 'modifiedDate': '5/24/2018',\n 'availableDate': '5/24/2018',\n 'brandOwner': 'Gus Sclafani Corp.',\n 'brandName': 'SCLAFANI',\n 'dataSource': 'LI',\n 'brandedFoodCategory': 'Cookies & Biscuits',\n 'gtinUpc': '080602033613',\n 'ingredients': 'WHEAT FLOUR, SUGAR, EGG 26%, LEAVENING AGENTS SODIUM DIPHOSPHATE, SODIUM CARBONATE ACID, AMMONIUM CARBONATE ACID), GLUCOSE SYRUP, ARTIFICIAL FLAVOURS, SALT.',\n 'marketCountry': 'United States',\n 'servingSize': 30.0,\n 'servingSizeUnit': 'g',\n 'packageWeight': '7 oz/200 g',\n 'foodUpdateLog': [{'discontinuedDate': '',\n   'foodAttributes': [],\n   'fdcId': 2008520,\n   'description': 'LADY FINGERS',\n   'publicationDate': '10/28/2021',\n   'dataType': 'Branded',\n   'foodClass': 'Branded',\n   'modifiedDate': '5/24/2018',\n   'availableDate': '5/24/2018',\n   'brandOwner': 'Gus Sclafani Corp.',\n   'brandName': 'SCLAFANI',\n   'dataSource': 'LI',\n   'brandedFoodCategory': 'Cookies & Biscuits',\n   'gtinUpc': '080602033613',\n   'ingredients': 'WHEAT FLOUR, SUGAR, EGG 26%, LEAVENING AGENTS SODIUM DIPHOSPHATE, SODIUM CARBONATE ACID, AMMONIUM CARBONATE ACID), GLUCOSE SYRUP, ARTIFICIAL FLAVOURS, SALT.',\n   'marketCountry': 'United States',\n   'servingSize': 30.0,\n   'servingSizeUnit': 'g',\n   'packageWeight': '7 oz/200 g'},\n  {'discontinuedDate': '',\n   'foodAttributes': [],\n   'fdcId': 1463771,\n   'description': 'LADY FINGERS',\n   'publicationDate': '3/19/2021',\n   'dataType': 'Branded',\n   'foodClass': 'Branded',\n   'modifiedDate': '5/24/2018',\n   'availableDate': '5/24/2018',\n   'brandOwner': 'Gus Sclafani Corp.',\n   'brandName': 'SCLAFANI',\n   'dataSource': 'LI',\n   'brandedFoodCategory': 'Cookies & Biscuits',\n   'gtinUpc': '080602033613',\n   'ingredients': 'WHEAT FLOUR, SUGAR, EGG 26%, LEAVENING AGENTS SODIUM DIPHOSPHATE, SODIUM CARBONATE ACID, AMMONIUM CARBONATE ACID), GLUCOSE SYRUP, ARTIFICIAL FLAVOURS, SALT.',\n   'marketCountry': 'United States',\n   'servingSize': 30.0,\n   'servingSizeUnit': 'g'},\n  {'discontinuedDate': '',\n   'foodAttributes': [],\n   'fdcId': 1171752,\n   'description': 'LADY FINGERS',\n   'publicationDate': '2/26/2021',\n   'dataType': 'Branded',\n   'foodClass': 'Branded',\n   'modifiedDate': '5/24/2018',\n   'availableDate': '5/24/2018',\n   'brandOwner': 'Gus Sclafani Corp.',\n   'brandName': 'SCLAFANI',\n   'subbrandName': '',\n   'dataSource': 'LI',\n   'brandedFoodCategory': 'Cookies & Biscuits',\n   'gtinUpc': '080602033613',\n   'ingredients': 'WHEAT FLOUR, SUGAR, EGG 26%, LEAVENING AGENTS SODIUM DIPHOSPHATE, SODIUM CARBONATE ACID, AMMONIUM CARBONATE ACID), GLUCOSE SYRUP, ARTIFICIAL FLAVOURS, SALT.',\n   'marketCountry': 'United States',\n   'servingSize': 30.0,\n   'servingSizeUnit': 'g',\n   'packageWeight': '',\n   'notaSignificantSourceOf': ''}],\n 'labelNutrients': {'fat': {'value': 0.999},\n  'saturatedFat': {'value': 0.0},\n  'transFat': {'value': 0.0},\n  'cholesterol': {'value': 30.0},\n  'sodium': {'value': 45.0},\n  'carbohydrates': {'value': 23.0},\n  'fiber': {'value': 0.99},\n  'sugars': {'value': 13.0},\n  'protein': {'value': 3.0},\n  'calcium': {'value': 0.0},\n  'iron': {'value': 0.36},\n  'calories': {'value': 110}}}"
     },
     "execution_count": 4,
     "metadata": {},
     "output_type": "execute_result"
    }
   ],
   "source": [
    "client.get_food(2008520)"
   ],
   "metadata": {
    "collapsed": false,
    "pycharm": {
     "name": "#%%\n"
    }
   }
  },
  {
   "cell_type": "code",
   "execution_count": 4,
   "outputs": [],
   "source": [
    "id_amount = {\n",
    "    1101653: 100,\n",
    "    2266581: 100\n",
    "}\n",
    "print(client.get_foods(id_amount))"
   ],
   "metadata": {
    "collapsed": false,
    "pycharm": {
     "name": "#%%\n"
    }
   }
  },
  {
   "cell_type": "code",
   "execution_count": 3,
   "outputs": [
    {
     "name": "stdout",
     "output_type": "stream",
     "text": [
      "Meal: Bread with cheese and flax oil. Ingredients:\n",
      "100g of Bread, sunflower meal (id: 1100825, source: Survey (FNDDS))\n",
      "50g of Cheese, cottage, dry curd (id: 1098050, source: Survey (FNDDS))\n",
      "20g of Chives, raw (id: 1103349, source: Survey (FNDDS))\n",
      "10g of FLAX SEED OIL (id: 2058238, source: Branded)\n",
      "Meal: Lotus. Ingredients:\n",
      "8g of BISCOFF COOKIES (id: 1984148, source: Branded)\n",
      "Meal: Lady finger. Ingredients:\n",
      "6g of LADY FINGERS (id: 2008520, source: Branded)\n",
      "Meal: Lady finger. Ingredients:\n",
      "6g of LADY FINGERS (id: 2008520, source: Branded)\n",
      "Meal: Lady finger. Ingredients:\n",
      "6g of LADY FINGERS (id: 2008520, source: Branded)\n",
      "Nutrients:\n",
      "\n",
      "Water - 90.47g\n",
      "Energy - 535.46kcal\n",
      "Protein - 17.74g\n",
      "Total lipid (fat) - 20.69g\n",
      "Carbohydrate, by difference - 71.59g\n",
      "Fiber, total dietary - 3.79g\n",
      "Sugars, total including NLEA - 15.38g\n",
      "Calcium, Ca - 100.4mg\n",
      "Iron, Fe - 3.6mg\n",
      "Magnesium, Mg - 43.9mg\n",
      "Phosphorus, P - 303.6mg\n",
      "Potassium, K - 305.7mg\n",
      "Sodium, Na - 757.0mg\n",
      "Zinc, Zn - 1.51mg\n",
      "Copper, Cu - 0.35mg\n",
      "Selenium, Se - 36.68µg\n",
      "Vitamin C, total ascorbic acid - 11.82mg\n",
      "Thiamin - 0.48mg\n",
      "Riboflavin - 0.48mg\n",
      "Niacin - 5.13mg\n",
      "Vitamin B-6 - 0.15mg\n",
      "Folate, total - 136.5µg\n",
      "Folic acid - 62.0µg\n",
      "Folate, food - 75.5µg\n",
      "Folate, DFE - 179.5µg\n",
      "Choline, total - 24.09mg\n",
      "Vitamin B-12 - 0.29µg\n",
      "Vitamin B-12, added - 0.0µg\n",
      "Vitamin A, RAE - 61.6µg\n",
      "Retinol - 18.0µg\n",
      "Carotene, beta - 525.4µg\n",
      "Carotene, alpha - 0.0µg\n",
      "Cryptoxanthin, beta - 0.0µg\n",
      "Lycopene - 0.0µg\n",
      "Lutein + zeaxanthin - 106.6µg\n",
      "Vitamin E (alpha-tocopherol) - 3.05mg\n",
      "Vitamin E, added - 0.0mg\n",
      "Vitamin D (D2 + D3) - 0.2µg\n",
      "Vitamin K (phylloquinone) - 43.54µg\n",
      "Fatty acids, total saturated - 3.1g\n",
      "SFA 4:0 - 0.04g\n",
      "SFA 6:0 - 0.03g\n",
      "SFA 8:0 - 0.02g\n",
      "SFA 10:0 - 0.04g\n",
      "SFA 12:0 - 0.04g\n",
      "SFA 14:0 - 0.13g\n",
      "SFA 16:0 - 0.9g\n",
      "SFA 18:0 - 0.5g\n",
      "Fatty acids, total monounsaturated - 1.8g\n",
      "MUFA 16:1 - 0.04g\n",
      "MUFA 18:1 - 1.76g\n",
      "MUFA 20:1 - 0.01g\n",
      "MUFA 22:1 - 0.0g\n",
      "Fatty acids, total polyunsaturated - 4.16g\n",
      "PUFA 18:2 - 4.1g\n",
      "PUFA 18:3 - 0.06g\n",
      "PUFA 18:4 - 0.0g\n",
      "PUFA 20:4 - 0.0g\n",
      "PUFA 20:5 n-3 (EPA) - 0.0g\n",
      "PUFA 22:5 n-3 (DPA) - 0.0g\n",
      "PUFA 22:6 n-3 (DHA) - 0.0g\n",
      "Cholesterol - 25.5mg\n",
      "Alcohol, ethyl - 0.0g\n",
      "Caffeine - 0.0mg\n",
      "Theobromine - 0.0mg\n",
      "Fatty acids, total trans - 0.0g\n",
      "Vitamin D (D2 + D3), International Units - 0.0IU\n",
      "Sugars, added - 2.88g\n",
      "Vitamin A, IU - 0.0IU\n"
     ]
    }
   ],
   "source": [
    "diet = client.get_meals([Meals.BREAD_WITH_CHEESE_AND_FLAX_OIL, Meals.LOTUS] + (3 * [Meals.LADY_FINGERS]))\n",
    "print(diet)\n",
    "diet.print_nutrients()"
   ],
   "metadata": {
    "collapsed": false,
    "pycharm": {
     "name": "#%%\n"
    }
   }
  }
 ],
 "metadata": {
  "kernelspec": {
   "display_name": "Python 3",
   "language": "python",
   "name": "python3"
  },
  "language_info": {
   "codemirror_mode": {
    "name": "ipython",
    "version": 2
   },
   "file_extension": ".py",
   "mimetype": "text/x-python",
   "name": "python",
   "nbconvert_exporter": "python",
   "pygments_lexer": "ipython2",
   "version": "2.7.6"
  }
 },
 "nbformat": 4,
 "nbformat_minor": 0
}