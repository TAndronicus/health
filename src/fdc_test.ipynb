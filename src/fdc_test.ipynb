{
 "cells": [
  {
   "cell_type": "code",
   "execution_count": 1,
   "metadata": {
    "collapsed": true,
    "pycharm": {
     "name": "#%%\n"
    }
   },
   "outputs": [],
   "source": [
    "from fdc_client import FdcClient\n",
    "from constants.fdc_constants import Meals\n",
    "api_key = 'KV2tU1GXpctVLUhg9btY30W2XGnqu5QGPFSeq8AL'"
   ]
  },
  {
   "cell_type": "code",
   "execution_count": 2,
   "outputs": [],
   "source": [
    "client = FdcClient(api_key)"
   ],
   "metadata": {
    "collapsed": false,
    "pycharm": {
     "name": "#%%\n"
    }
   }
  },
  {
   "cell_type": "code",
   "execution_count": 27,
   "outputs": [
    {
     "name": "stdout",
     "output_type": "stream",
     "text": [
      "Page 1/1026. Data:\n",
      "Cream, fluid, light (coffee cream or table cream) (id: 170857, source: SR Legacy)\n",
      "Cream, light (id: 1097884, source: Survey (FNDDS))\n",
      "Liqueur with cream (id: 1104466, source: Survey (FNDDS))\n",
      "Cream, whipped, cream topping, pressurized (id: 170860, source: SR Legacy)\n",
      "Cream, heavy (id: 1097888, source: Survey (FNDDS))\n",
      "Cream, whipped (id: 1097889, source: Survey (FNDDS))\n",
      "Cheese, cream (id: 173418, source: SR Legacy)\n",
      "Corn, creamed (id: 1103507, source: Survey (FNDDS))\n",
      "Cream of rye (id: 1101687, source: Survey (FNDDS))\n",
      "Egg, creamed (id: 1100210, source: Survey (FNDDS))\n",
      "Spinach, creamed (id: 1103150, source: Survey (FNDDS))\n",
      "Crackers, cream, La Moderna Rikis Cream Crackers (id: 167531, source: SR Legacy)\n",
      "Cream puff, eclair, custard or cream filled, iced (id: 1101161, source: Survey (FNDDS))\n",
      "Cream puff, eclair, custard or cream filled, iced (id: 167534, source: SR Legacy)\n",
      "Cream puff, eclair, custard or cream filled, not iced (id: 1101160, source: Survey (FNDDS))\n",
      "Pie, cherry, made with cream cheese and sour cream (id: 1101100, source: Survey (FNDDS))\n",
      "Cream, half and half (id: 1097885, source: Survey (FNDDS))\n",
      "Cream cheese, light (id: 1098059, source: Survey (FNDDS))\n",
      "Sour cream, imitation (id: 1097909, source: Survey (FNDDS))\n",
      "Sour cream, light (id: 1097907, source: Survey (FNDDS))\n",
      "Sour cream, regular (id: 1097906, source: Survey (FNDDS))\n",
      "Cream substitute, powdered (id: 171263, source: SR Legacy)\n",
      "Cream, sour, cultured (id: 171257, source: SR Legacy)\n",
      "Ice cream cake (id: 1100918, source: Survey (FNDDS))\n",
      "Ice cream sandwich (id: 172226, source: SR Legacy)\n",
      "Ice cream, chocolate (id: 1097926, source: Survey (FNDDS))\n",
      "Ice cream, fried (id: 1097957, source: Survey (FNDDS))\n",
      "Ice cream, NFS (id: 1097923, source: Survey (FNDDS))\n",
      "Ice cream, vanilla (id: 1097924, source: Survey (FNDDS))\n",
      "Ice creams, chocolate (id: 168809, source: SR Legacy)\n",
      "Ice creams, strawberry (id: 168810, source: SR Legacy)\n",
      "Ice creams, vanilla (id: 167575, source: SR Legacy)\n",
      "Pie, banana cream (id: 1101101, source: Survey (FNDDS))\n",
      "Pie, chocolate cream (id: 1101105, source: Survey (FNDDS))\n",
      "Pie, coconut cream (id: 1101107, source: Survey (FNDDS))\n",
      "Pie, lemon cream (id: 1101113, source: Survey (FNDDS))\n",
      "Pie, pineapple cream (id: 1101116, source: Survey (FNDDS))\n",
      "Pie, strawberry cream (id: 1101121, source: Survey (FNDDS))\n",
      "Pie, vanilla cream (id: 1101124, source: Survey (FNDDS))\n",
      "Soup, cream of, NFS (id: 1103694, source: Survey (FNDDS))\n",
      "Sour cream, light (id: 173443, source: SR Legacy)\n",
      "Toppings, marshmallow cream (id: 169664, source: SR Legacy)\n",
      "Veal with cream sauce (id: 1099224, source: Survey (FNDDS))\n",
      "Cream puff, eclair, custard or cream filled, NS as to icing (id: 1101159, source: Survey (FNDDS))\n",
      "Ice cream sandwich, made with light ice cream, vanilla (id: 172229, source: SR Legacy)\n",
      "Cream puff, eclair, custard or cream filled, iced, reduced fat (id: 1101162, source: Survey (FNDDS))\n",
      "Ice cream candy bar (id: 1097934, source: Survey (FNDDS))\n",
      "Light ice cream, vanilla (id: 1097959, source: Survey (FNDDS))\n",
      "Cream, half and half, flavored (id: 1097886, source: Survey (FNDDS))\n",
      "Cream cheese, regular, flavored (id: 1098058, source: Survey (FNDDS))\n",
      "\n"
     ]
    }
   ],
   "source": [
    "print(client.search_foods('cream', 1))"
   ],
   "metadata": {
    "collapsed": false,
    "pycharm": {
     "name": "#%%\n"
    }
   }
  },
  {
   "cell_type": "code",
   "execution_count": 29,
   "outputs": [
    {
     "data": {
      "text/plain": "{'wweiaFoodCategory': {'wweiaFoodCategoryCode': 8008,\n  'wweiaFoodCategoryDescription': 'Cream and cream substitutes'},\n 'description': 'Cream, heavy',\n 'foodAttributes': [{'id': 993607,\n   'value': 'Cream and cream substitutes',\n   'name': 'WWEIA Category description',\n   'foodAttributeType': {'id': 999,\n    'name': 'Attribute',\n    'description': 'Generic attributes'}},\n  {'id': 985416,\n   'value': '8008',\n   'name': 'WWEIA Category number',\n   'foodAttributeType': {'id': 999,\n    'name': 'Attribute',\n    'description': 'Generic attributes'}},\n  {'id': 967445,\n   'value': 'NS as to heavy or light',\n   'sequenceNumber': 3,\n   'foodAttributeType': {'id': 1001,\n    'name': 'Additional Description',\n    'description': 'Additional descriptions for the food.'}},\n  {'id': 967444,\n   'value': 'whipping cream',\n   'sequenceNumber': 2,\n   'foodAttributeType': {'id': 1001,\n    'name': 'Additional Description',\n    'description': 'Additional descriptions for the food.'}}],\n 'foodCode': '12130100',\n 'inputFoods': [{'id': 79045,\n   'foodDescription': 'Cream, fluid, heavy whipping',\n   'ingredientDescription': 'Cream, fluid, heavy whipping',\n   'ingredientWeight': 100.0,\n   'portionCode': '0',\n   'portionDescription': 'NONE',\n   'sequenceNumber': 1,\n   'ingredientCode': 1053,\n   'unit': 'GM',\n   'amount': 100.0}],\n 'startDate': '1/1/2017',\n 'endDate': '12/31/2018',\n 'foodComponents': [],\n 'foodClass': 'Survey',\n 'fdcId': 1097888,\n 'publicationDate': '10/30/2020',\n 'foodNutrients': [{'nutrient': {'id': 2045,\n    'number': '951',\n    'name': 'Proximates',\n    'rank': 50,\n    'unitName': 'g'},\n   'type': 'FoodNutrient'},\n  {'type': 'FoodNutrient',\n   'nutrient': {'id': 1051,\n    'number': '255',\n    'name': 'Water',\n    'rank': 100,\n    'unitName': 'g'},\n   'id': 12899793,\n   'amount': 57.71},\n  {'type': 'FoodNutrient',\n   'nutrient': {'id': 1008,\n    'number': '208',\n    'name': 'Energy',\n    'rank': 300,\n    'unitName': 'kcal'},\n   'id': 12899791,\n   'amount': 340.0},\n  {'type': 'FoodNutrient',\n   'nutrient': {'id': 1003,\n    'number': '203',\n    'name': 'Protein',\n    'rank': 600,\n    'unitName': 'g'},\n   'id': 12899788,\n   'amount': 2.84},\n  {'type': 'FoodNutrient',\n   'nutrient': {'id': 1004,\n    'number': '204',\n    'name': 'Total lipid (fat)',\n    'rank': 800,\n    'unitName': 'g'},\n   'id': 12899789,\n   'amount': 36.08},\n  {'nutrient': {'id': 2039,\n    'number': '956',\n    'name': 'Carbohydrates',\n    'rank': 1100,\n    'unitName': 'g'},\n   'type': 'FoodNutrient'},\n  {'type': 'FoodNutrient',\n   'nutrient': {'id': 1005,\n    'number': '205',\n    'name': 'Carbohydrate, by difference',\n    'rank': 1110,\n    'unitName': 'g'},\n   'id': 12899790,\n   'amount': 2.84},\n  {'type': 'FoodNutrient',\n   'nutrient': {'id': 1079,\n    'number': '291',\n    'name': 'Fiber, total dietary',\n    'rank': 1200,\n    'unitName': 'g'},\n   'id': 12899797,\n   'amount': 0.0},\n  {'type': 'FoodNutrient',\n   'nutrient': {'id': 2000,\n    'number': '269',\n    'name': 'Sugars, total including NLEA',\n    'rank': 1510,\n    'unitName': 'g'},\n   'id': 12899796,\n   'amount': 2.92},\n  {'nutrient': {'id': 2043,\n    'number': '300',\n    'name': 'Minerals',\n    'rank': 5200,\n    'unitName': 'mg'},\n   'type': 'FoodNutrient'},\n  {'type': 'FoodNutrient',\n   'nutrient': {'id': 1087,\n    'number': '301',\n    'name': 'Calcium, Ca',\n    'rank': 5300,\n    'unitName': 'mg'},\n   'id': 12899798,\n   'amount': 66.0},\n  {'type': 'FoodNutrient',\n   'nutrient': {'id': 1089,\n    'number': '303',\n    'name': 'Iron, Fe',\n    'rank': 5400,\n    'unitName': 'mg'},\n   'id': 12899799,\n   'amount': 0.1},\n  {'type': 'FoodNutrient',\n   'nutrient': {'id': 1090,\n    'number': '304',\n    'name': 'Magnesium, Mg',\n    'rank': 5500,\n    'unitName': 'mg'},\n   'id': 12899800,\n   'amount': 7.0},\n  {'type': 'FoodNutrient',\n   'nutrient': {'id': 1091,\n    'number': '305',\n    'name': 'Phosphorus, P',\n    'rank': 5600,\n    'unitName': 'mg'},\n   'id': 12899801,\n   'amount': 58.0},\n  {'type': 'FoodNutrient',\n   'nutrient': {'id': 1092,\n    'number': '306',\n    'name': 'Potassium, K',\n    'rank': 5700,\n    'unitName': 'mg'},\n   'id': 12899802,\n   'amount': 95.0},\n  {'type': 'FoodNutrient',\n   'nutrient': {'id': 1093,\n    'number': '307',\n    'name': 'Sodium, Na',\n    'rank': 5800,\n    'unitName': 'mg'},\n   'id': 12899803,\n   'amount': 27.0},\n  {'type': 'FoodNutrient',\n   'nutrient': {'id': 1095,\n    'number': '309',\n    'name': 'Zinc, Zn',\n    'rank': 5900,\n    'unitName': 'mg'},\n   'id': 12899804,\n   'amount': 0.24},\n  {'type': 'FoodNutrient',\n   'nutrient': {'id': 1098,\n    'number': '312',\n    'name': 'Copper, Cu',\n    'rank': 6000,\n    'unitName': 'mg'},\n   'id': 12899805,\n   'amount': 0.011},\n  {'type': 'FoodNutrient',\n   'nutrient': {'id': 1103,\n    'number': '317',\n    'name': 'Selenium, Se',\n    'rank': 6200,\n    'unitName': 'µg'},\n   'id': 12899806,\n   'amount': 3.0},\n  {'nutrient': {'id': 2046,\n    'number': '952',\n    'name': 'Vitamins and Other Components',\n    'rank': 6250,\n    'unitName': 'g'},\n   'type': 'FoodNutrient'},\n  {'type': 'FoodNutrient',\n   'nutrient': {'id': 1162,\n    'number': '401',\n    'name': 'Vitamin C, total ascorbic acid',\n    'rank': 6300,\n    'unitName': 'mg'},\n   'id': 12899816,\n   'amount': 0.6},\n  {'type': 'FoodNutrient',\n   'nutrient': {'id': 1165,\n    'number': '404',\n    'name': 'Thiamin',\n    'rank': 6400,\n    'unitName': 'mg'},\n   'id': 12899817,\n   'amount': 0.02},\n  {'type': 'FoodNutrient',\n   'nutrient': {'id': 1166,\n    'number': '405',\n    'name': 'Riboflavin',\n    'rank': 6500,\n    'unitName': 'mg'},\n   'id': 12899818,\n   'amount': 0.188},\n  {'type': 'FoodNutrient',\n   'nutrient': {'id': 1167,\n    'number': '406',\n    'name': 'Niacin',\n    'rank': 6600,\n    'unitName': 'mg'},\n   'id': 12899819,\n   'amount': 0.064},\n  {'type': 'FoodNutrient',\n   'nutrient': {'id': 1175,\n    'number': '415',\n    'name': 'Vitamin B-6',\n    'rank': 6800,\n    'unitName': 'mg'},\n   'id': 12899820,\n   'amount': 0.035},\n  {'type': 'FoodNutrient',\n   'nutrient': {'id': 1177,\n    'number': '417',\n    'name': 'Folate, total',\n    'rank': 6900,\n    'unitName': 'µg'},\n   'id': 12899821,\n   'amount': 4.0},\n  {'type': 'FoodNutrient',\n   'nutrient': {'id': 1186,\n    'number': '431',\n    'name': 'Folic acid',\n    'rank': 7000,\n    'unitName': 'µg'},\n   'id': 12899825,\n   'amount': 0.0},\n  {'type': 'FoodNutrient',\n   'nutrient': {'id': 1187,\n    'number': '432',\n    'name': 'Folate, food',\n    'rank': 7100,\n    'unitName': 'µg'},\n   'id': 12899826,\n   'amount': 4.0},\n  {'type': 'FoodNutrient',\n   'nutrient': {'id': 1190,\n    'number': '435',\n    'name': 'Folate, DFE',\n    'rank': 7200,\n    'unitName': 'µg'},\n   'id': 12899827,\n   'amount': 4.0},\n  {'type': 'FoodNutrient',\n   'nutrient': {'id': 1180,\n    'number': '421',\n    'name': 'Choline, total',\n    'rank': 7220,\n    'unitName': 'mg'},\n   'id': 12899823,\n   'amount': 16.8},\n  {'type': 'FoodNutrient',\n   'nutrient': {'id': 1178,\n    'number': '418',\n    'name': 'Vitamin B-12',\n    'rank': 7300,\n    'unitName': 'µg'},\n   'id': 12899822,\n   'amount': 0.16},\n  {'type': 'FoodNutrient',\n   'nutrient': {'id': 1246,\n    'number': '578',\n    'name': 'Vitamin B-12, added',\n    'rank': 7340,\n    'unitName': 'µg'},\n   'id': 12899829,\n   'amount': 0.0},\n  {'type': 'FoodNutrient',\n   'nutrient': {'id': 1106,\n    'number': '320',\n    'name': 'Vitamin A, RAE',\n    'rank': 7420,\n    'unitName': 'µg'},\n   'id': 12899808,\n   'amount': 411.0},\n  {'type': 'FoodNutrient',\n   'nutrient': {'id': 1105,\n    'number': '319',\n    'name': 'Retinol',\n    'rank': 7430,\n    'unitName': 'µg'},\n   'id': 12899807,\n   'amount': 405.0},\n  {'type': 'FoodNutrient',\n   'nutrient': {'id': 1107,\n    'number': '321',\n    'name': 'Carotene, beta',\n    'rank': 7440,\n    'unitName': 'µg'},\n   'id': 12899809,\n   'amount': 72.0},\n  {'type': 'FoodNutrient',\n   'nutrient': {'id': 1108,\n    'number': '322',\n    'name': 'Carotene, alpha',\n    'rank': 7450,\n    'unitName': 'µg'},\n   'id': 12899810,\n   'amount': 0.0},\n  {'type': 'FoodNutrient',\n   'nutrient': {'id': 1120,\n    'number': '334',\n    'name': 'Cryptoxanthin, beta',\n    'rank': 7460,\n    'unitName': 'µg'},\n   'id': 12899813,\n   'amount': 0.0},\n  {'type': 'FoodNutrient',\n   'nutrient': {'id': 1122,\n    'number': '337',\n    'name': 'Lycopene',\n    'rank': 7530,\n    'unitName': 'µg'},\n   'id': 12899814,\n   'amount': 0.0},\n  {'type': 'FoodNutrient',\n   'nutrient': {'id': 1123,\n    'number': '338',\n    'name': 'Lutein + zeaxanthin',\n    'rank': 7560,\n    'unitName': 'µg'},\n   'id': 12899815,\n   'amount': 0.0},\n  {'type': 'FoodNutrient',\n   'nutrient': {'id': 1109,\n    'number': '323',\n    'name': 'Vitamin E (alpha-tocopherol)',\n    'rank': 7905,\n    'unitName': 'mg'},\n   'id': 12899811,\n   'amount': 0.92},\n  {'type': 'FoodNutrient',\n   'nutrient': {'id': 1242,\n    'number': '573',\n    'name': 'Vitamin E, added',\n    'rank': 7920,\n    'unitName': 'mg'},\n   'id': 12899828,\n   'amount': 0.0},\n  {'type': 'FoodNutrient',\n   'nutrient': {'id': 1114,\n    'number': '328',\n    'name': 'Vitamin D (D2 + D3)',\n    'rank': 8700,\n    'unitName': 'µg'},\n   'id': 12899812,\n   'amount': 1.6},\n  {'type': 'FoodNutrient',\n   'nutrient': {'id': 1185,\n    'number': '430',\n    'name': 'Vitamin K (phylloquinone)',\n    'rank': 8800,\n    'unitName': 'µg'},\n   'id': 12899824,\n   'amount': 3.2},\n  {'nutrient': {'id': 2044,\n    'number': '950',\n    'name': 'Lipids',\n    'rank': 9600,\n    'unitName': 'g'},\n   'type': 'FoodNutrient'},\n  {'type': 'FoodNutrient',\n   'nutrient': {'id': 1258,\n    'number': '606',\n    'name': 'Fatty acids, total saturated',\n    'rank': 9700,\n    'unitName': 'g'},\n   'id': 12899831,\n   'amount': 23.032},\n  {'type': 'FoodNutrient',\n   'nutrient': {'id': 1259,\n    'number': '607',\n    'name': 'SFA 4:0',\n    'rank': 9800,\n    'unitName': 'g'},\n   'id': 12899832,\n   'amount': 0.732},\n  {'type': 'FoodNutrient',\n   'nutrient': {'id': 1260,\n    'number': '608',\n    'name': 'SFA 6:0',\n    'rank': 9900,\n    'unitName': 'g'},\n   'id': 12899833,\n   'amount': 0.609},\n  {'type': 'FoodNutrient',\n   'nutrient': {'id': 1261,\n    'number': '609',\n    'name': 'SFA 8:0',\n    'rank': 10000,\n    'unitName': 'g'},\n   'id': 12899834,\n   'amount': 0.384},\n  {'type': 'FoodNutrient',\n   'nutrient': {'id': 1262,\n    'number': '610',\n    'name': 'SFA 10:0',\n    'rank': 10100,\n    'unitName': 'g'},\n   'id': 12899835,\n   'amount': 0.905},\n  {'type': 'FoodNutrient',\n   'nutrient': {'id': 1263,\n    'number': '611',\n    'name': 'SFA 12:0',\n    'rank': 10300,\n    'unitName': 'g'},\n   'id': 12899836,\n   'amount': 1.05},\n  {'type': 'FoodNutrient',\n   'nutrient': {'id': 1264,\n    'number': '612',\n    'name': 'SFA 14:0',\n    'rank': 10500,\n    'unitName': 'g'},\n   'id': 12899837,\n   'amount': 3.331},\n  {'type': 'FoodNutrient',\n   'nutrient': {'id': 1265,\n    'number': '613',\n    'name': 'SFA 16:0',\n    'rank': 10700,\n    'unitName': 'g'},\n   'id': 12899838,\n   'amount': 9.298},\n  {'type': 'FoodNutrient',\n   'nutrient': {'id': 1266,\n    'number': '614',\n    'name': 'SFA 18:0',\n    'rank': 10900,\n    'unitName': 'g'},\n   'id': 12899839,\n   'amount': 3.572},\n  {'type': 'FoodNutrient',\n   'nutrient': {'id': 1292,\n    'number': '645',\n    'name': 'Fatty acids, total monounsaturated',\n    'rank': 11400,\n    'unitName': 'g'},\n   'id': 12899851,\n   'amount': 9.101},\n  {'type': 'FoodNutrient',\n   'nutrient': {'id': 1275,\n    'number': '626',\n    'name': 'MUFA 16:1',\n    'rank': 11700,\n    'unitName': 'g'},\n   'id': 12899845,\n   'amount': 0.656},\n  {'type': 'FoodNutrient',\n   'nutrient': {'id': 1268,\n    'number': '617',\n    'name': 'MUFA 18:1',\n    'rank': 12100,\n    'unitName': 'g'},\n   'id': 12899840,\n   'amount': 7.968},\n  {'type': 'FoodNutrient',\n   'nutrient': {'id': 1277,\n    'number': '628',\n    'name': 'MUFA 20:1',\n    'rank': 12400,\n    'unitName': 'g'},\n   'id': 12899847,\n   'amount': 0.065},\n  {'type': 'FoodNutrient',\n   'nutrient': {'id': 1279,\n    'number': '630',\n    'name': 'MUFA 22:1',\n    'rank': 12500,\n    'unitName': 'g'},\n   'id': 12899849,\n   'amount': 0.003},\n  {'type': 'FoodNutrient',\n   'nutrient': {'id': 1293,\n    'number': '646',\n    'name': 'Fatty acids, total polyunsaturated',\n    'rank': 12900,\n    'unitName': 'g'},\n   'id': 12899852,\n   'amount': 1.57},\n  {'type': 'FoodNutrient',\n   'nutrient': {'id': 1269,\n    'number': '618',\n    'name': 'PUFA 18:2',\n    'rank': 13100,\n    'unitName': 'g'},\n   'id': 12899841,\n   'amount': 1.294},\n  {'type': 'FoodNutrient',\n   'nutrient': {'id': 1270,\n    'number': '619',\n    'name': 'PUFA 18:3',\n    'rank': 13900,\n    'unitName': 'g'},\n   'id': 12899842,\n   'amount': 0.128},\n  {'type': 'FoodNutrient',\n   'nutrient': {'id': 1276,\n    'number': '627',\n    'name': 'PUFA 18:4',\n    'rank': 14250,\n    'unitName': 'g'},\n   'id': 12899846,\n   'amount': 0.0},\n  {'type': 'FoodNutrient',\n   'nutrient': {'id': 1271,\n    'number': '620',\n    'name': 'PUFA 20:4',\n    'rank': 14700,\n    'unitName': 'g'},\n   'id': 12899843,\n   'amount': 0.058},\n  {'type': 'FoodNutrient',\n   'nutrient': {'id': 1278,\n    'number': '629',\n    'name': 'PUFA 20:5 n-3 (EPA)',\n    'rank': 15000,\n    'unitName': 'g'},\n   'id': 12899848,\n   'amount': 0.009},\n  {'type': 'FoodNutrient',\n   'nutrient': {'id': 1280,\n    'number': '631',\n    'name': 'PUFA 22:5 n-3 (DPA)',\n    'rank': 15200,\n    'unitName': 'g'},\n   'id': 12899850,\n   'amount': 0.02},\n  {'type': 'FoodNutrient',\n   'nutrient': {'id': 1272,\n    'number': '621',\n    'name': 'PUFA 22:6 n-3 (DHA)',\n    'rank': 15300,\n    'unitName': 'g'},\n   'id': 12899844,\n   'amount': 0.0},\n  {'type': 'FoodNutrient',\n   'nutrient': {'id': 1253,\n    'number': '601',\n    'name': 'Cholesterol',\n    'rank': 15700,\n    'unitName': 'mg'},\n   'id': 12899830,\n   'amount': 113.0},\n  {'nutrient': {'id': 2042,\n    'number': '500',\n    'name': 'Amino acids',\n    'rank': 16250,\n    'unitName': 'g'},\n   'type': 'FoodNutrient'},\n  {'type': 'FoodNutrient',\n   'nutrient': {'id': 1018,\n    'number': '221',\n    'name': 'Alcohol, ethyl',\n    'rank': 18200,\n    'unitName': 'g'},\n   'id': 12899792,\n   'amount': 0.0},\n  {'type': 'FoodNutrient',\n   'nutrient': {'id': 1057,\n    'number': '262',\n    'name': 'Caffeine',\n    'rank': 18300,\n    'unitName': 'mg'},\n   'id': 12899794,\n   'amount': 0.0},\n  {'type': 'FoodNutrient',\n   'nutrient': {'id': 1058,\n    'number': '263',\n    'name': 'Theobromine',\n    'rank': 18400,\n    'unitName': 'mg'},\n   'id': 12899795,\n   'amount': 0.0}],\n 'foodPortions': [{'id': 237249,\n   'portionDescription': '1 cup',\n   'gramWeight': 240.0,\n   'sequenceNumber': 1,\n   'modifier': '10205',\n   'measureUnit': {'id': 9999,\n    'name': 'undetermined',\n    'abbreviation': 'undetermined'}},\n  {'id': 241332,\n   'portionDescription': '1 fl oz',\n   'gramWeight': 30.0,\n   'sequenceNumber': 2,\n   'modifier': '30000',\n   'measureUnit': {'id': 9999,\n    'name': 'undetermined',\n    'abbreviation': 'undetermined'}},\n  {'id': 253804,\n   'portionDescription': 'Guideline amount per fl oz of beverage',\n   'gramWeight': 2.5,\n   'sequenceNumber': 3,\n   'modifier': '63480',\n   'measureUnit': {'id': 9999,\n    'name': 'undetermined',\n    'abbreviation': 'undetermined'}},\n  {'id': 260650,\n   'portionDescription': 'Quantity not specified',\n   'gramWeight': 20.0,\n   'sequenceNumber': 4,\n   'modifier': '90000',\n   'measureUnit': {'id': 9999,\n    'name': 'undetermined',\n    'abbreviation': 'undetermined'}}],\n 'dataType': 'Survey (FNDDS)'}"
     },
     "execution_count": 29,
     "metadata": {},
     "output_type": "execute_result"
    }
   ],
   "source": [
    "client.get_food(1097888)"
   ],
   "metadata": {
    "collapsed": false,
    "pycharm": {
     "name": "#%%\n"
    }
   }
  },
  {
   "cell_type": "code",
   "execution_count": 4,
   "outputs": [],
   "source": [
    "id_amount = {\n",
    "    1101653: 100,\n",
    "    2266581: 100\n",
    "}\n",
    "print(client.get_foods(id_amount))"
   ],
   "metadata": {
    "collapsed": false,
    "pycharm": {
     "name": "#%%\n"
    }
   }
  },
  {
   "cell_type": "code",
   "execution_count": 3,
   "outputs": [
    {
     "name": "stdout",
     "output_type": "stream",
     "text": [
      "Meal: Bread with cheese and flax oil. Ingredients:\n",
      "100g of Bread, sunflower meal (id: 1100825, source: Survey (FNDDS))\n",
      "50g of Cheese, cottage, dry curd (id: 1098050, source: Survey (FNDDS))\n",
      "20g of Chives, raw (id: 1103349, source: Survey (FNDDS))\n",
      "10g of FLAX SEED OIL (id: 2058238, source: Branded)\n",
      "Meal: Lotus. Ingredients:\n",
      "8g of BISCOFF COOKIES (id: 1984148, source: Branded)\n",
      "Meal: Lady finger. Ingredients:\n",
      "6g of LADY FINGERS (id: 2008520, source: Branded)\n",
      "Meal: Lady finger. Ingredients:\n",
      "6g of LADY FINGERS (id: 2008520, source: Branded)\n",
      "Meal: Lady finger. Ingredients:\n",
      "6g of LADY FINGERS (id: 2008520, source: Branded)\n",
      "Nutrients:\n",
      "\n",
      "Water - 90.47g\n",
      "Energy - 535.46kcal\n",
      "Protein - 17.74g\n",
      "Total lipid (fat) - 20.69g\n",
      "Carbohydrate, by difference - 71.59g\n",
      "Fiber, total dietary - 3.79g\n",
      "Sugars, total including NLEA - 15.38g\n",
      "Calcium, Ca - 100.4mg\n",
      "Iron, Fe - 3.6mg\n",
      "Magnesium, Mg - 43.9mg\n",
      "Phosphorus, P - 303.6mg\n",
      "Potassium, K - 305.7mg\n",
      "Sodium, Na - 757.0mg\n",
      "Zinc, Zn - 1.51mg\n",
      "Copper, Cu - 0.35mg\n",
      "Selenium, Se - 36.68µg\n",
      "Vitamin C, total ascorbic acid - 11.82mg\n",
      "Thiamin - 0.48mg\n",
      "Riboflavin - 0.48mg\n",
      "Niacin - 5.13mg\n",
      "Vitamin B-6 - 0.15mg\n",
      "Folate, total - 136.5µg\n",
      "Folic acid - 62.0µg\n",
      "Folate, food - 75.5µg\n",
      "Folate, DFE - 179.5µg\n",
      "Choline, total - 24.09mg\n",
      "Vitamin B-12 - 0.29µg\n",
      "Vitamin B-12, added - 0.0µg\n",
      "Vitamin A, RAE - 61.6µg\n",
      "Retinol - 18.0µg\n",
      "Carotene, beta - 525.4µg\n",
      "Carotene, alpha - 0.0µg\n",
      "Cryptoxanthin, beta - 0.0µg\n",
      "Lycopene - 0.0µg\n",
      "Lutein + zeaxanthin - 106.6µg\n",
      "Vitamin E (alpha-tocopherol) - 3.05mg\n",
      "Vitamin E, added - 0.0mg\n",
      "Vitamin D (D2 + D3) - 0.2µg\n",
      "Vitamin K (phylloquinone) - 43.54µg\n",
      "Fatty acids, total saturated - 3.1g\n",
      "SFA 4:0 - 0.04g\n",
      "SFA 6:0 - 0.03g\n",
      "SFA 8:0 - 0.02g\n",
      "SFA 10:0 - 0.04g\n",
      "SFA 12:0 - 0.04g\n",
      "SFA 14:0 - 0.13g\n",
      "SFA 16:0 - 0.9g\n",
      "SFA 18:0 - 0.5g\n",
      "Fatty acids, total monounsaturated - 1.8g\n",
      "MUFA 16:1 - 0.04g\n",
      "MUFA 18:1 - 1.76g\n",
      "MUFA 20:1 - 0.01g\n",
      "MUFA 22:1 - 0.0g\n",
      "Fatty acids, total polyunsaturated - 4.16g\n",
      "PUFA 18:2 - 4.1g\n",
      "PUFA 18:3 - 0.06g\n",
      "PUFA 18:4 - 0.0g\n",
      "PUFA 20:4 - 0.0g\n",
      "PUFA 20:5 n-3 (EPA) - 0.0g\n",
      "PUFA 22:5 n-3 (DPA) - 0.0g\n",
      "PUFA 22:6 n-3 (DHA) - 0.0g\n",
      "Cholesterol - 25.5mg\n",
      "Alcohol, ethyl - 0.0g\n",
      "Caffeine - 0.0mg\n",
      "Theobromine - 0.0mg\n",
      "Fatty acids, total trans - 0.0g\n",
      "Vitamin D (D2 + D3), International Units - 0.0IU\n",
      "Sugars, added - 2.88g\n",
      "Vitamin A, IU - 0.0IU\n"
     ]
    }
   ],
   "source": [
    "diet = client.get_meals([Meals.BREAD_WITH_CHEESE_AND_FLAX_OIL, Meals.LOTUS] + (3 * [Meals.LADY_FINGERS]))\n",
    "print(diet)\n",
    "diet.print_nutrients()"
   ],
   "metadata": {
    "collapsed": false,
    "pycharm": {
     "name": "#%%\n"
    }
   }
  }
 ],
 "metadata": {
  "kernelspec": {
   "display_name": "Python 3",
   "language": "python",
   "name": "python3"
  },
  "language_info": {
   "codemirror_mode": {
    "name": "ipython",
    "version": 2
   },
   "file_extension": ".py",
   "mimetype": "text/x-python",
   "name": "python",
   "nbconvert_exporter": "python",
   "pygments_lexer": "ipython2",
   "version": "2.7.6"
  }
 },
 "nbformat": 4,
 "nbformat_minor": 0
}