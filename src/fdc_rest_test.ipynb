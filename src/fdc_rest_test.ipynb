{
 "cells": [
  {
   "cell_type": "code",
   "execution_count": 6,
   "metadata": {
    "collapsed": true,
    "pycharm": {
     "name": "#%%\n"
    }
   },
   "outputs": [],
   "source": [
    "from fdc_client import FdcClient\n",
    "from constants.fdc_constants import Meals\n",
    "api_key = open(\"key.txt\", \"r\").read()"
   ]
  },
  {
   "cell_type": "code",
   "execution_count": 7,
   "outputs": [],
   "source": [
    "client = FdcClient(api_key)"
   ],
   "metadata": {
    "collapsed": false,
    "pycharm": {
     "name": "#%%\n"
    }
   }
  },
  {
   "cell_type": "code",
   "execution_count": 8,
   "outputs": [
    {
     "name": "stdout",
     "output_type": "stream",
     "text": [
      "Page 1/79. Data:\n",
      "Fried broccoli (id: 1103183, source: Survey (FNDDS))\n",
      "Broccoli, raw (id: 1103170, source: Survey (FNDDS))\n",
      "Beef and broccoli (id: 1099599, source: Survey (FNDDS))\n",
      "Broccoli, raw (id: 747447, source: Foundation)\n",
      "Broccoli, raw (id: 170379, source: SR Legacy)\n",
      "Broccoli raab, cooked (id: 170382, source: SR Legacy)\n",
      "Broccoli raab, raw (id: 170381, source: SR Legacy)\n",
      "Broccoli raab, raw (id: 1103084, source: Survey (FNDDS))\n",
      "Broccoli raab, cooked (id: 1103085, source: Survey (FNDDS))\n",
      "Broccoli slaw salad  (id: 1103384, source: Survey (FNDDS))\n",
      "Broccoli, Chinese, cooked (id: 1103185, source: Survey (FNDDS))\n",
      "Broccoli, chinese, raw (id: 1103184, source: Survey (FNDDS))\n",
      "Broccoli casserole with noodles (id: 1103181, source: Survey (FNDDS))\n",
      "Broccoli casserole with rice (id: 1103182, source: Survey (FNDDS))\n",
      "Broccoli, chinese, cooked (id: 169392, source: SR Legacy)\n",
      "Broccoli, chinese, raw (id: 169404, source: SR Legacy)\n",
      "Broccoli, cooked, as ingredient (id: 1104575, source: Survey (FNDDS))\n",
      "Broccoli, leaves, raw (id: 169329, source: SR Legacy)\n",
      "Broccoli, stalks, raw (id: 169331, source: SR Legacy)\n",
      "Broccoli, cooked, from restaurant (id: 1103171, source: Survey (FNDDS))\n",
      "Broccoli, fresh, cooked with oil (id: 1103177, source: Survey (FNDDS))\n",
      "Broccoli, frozen, cooked with oil (id: 1103179, source: Survey (FNDDS))\n",
      "Broccoli, NS as to form, cooked (id: 1103174, source: Survey (FNDDS))\n",
      "Broccoli, flower clusters, raw (id: 169330, source: SR Legacy)\n",
      "Broccoli, frozen, chopped, unprepared (id: 169968, source: SR Legacy)\n",
      "Croissant sandwich, filled with broccoli and cheese (id: 1102119, source: Survey (FNDDS))\n",
      "Broccoli, fresh, cooked with butter or margarine (id: 1103178, source: Survey (FNDDS))\n",
      "Broccoli, fresh, cooked, no added fat (id: 1103172, source: Survey (FNDDS))\n",
      "Broccoli, frozen, cooked with butter or margarine (id: 1103180, source: Survey (FNDDS))\n",
      "Broccoli, frozen, cooked, no added fat (id: 1103173, source: Survey (FNDDS))\n",
      "Babyfood, dinner, broccoli and chicken, junior (id: 172288, source: SR Legacy)\n",
      "Broccoli and cauliflower, cooked, fat added (id: 1103621, source: Survey (FNDDS))\n",
      "Broccoli and cauliflower, cooked, no added fat (id: 1103620, source: Survey (FNDDS))\n",
      "Broccoli and chicken, baby food, strained (id: 1103789, source: Survey (FNDDS))\n",
      "Broccoli, cooked, boiled, drained, with salt (id: 168510, source: SR Legacy)\n",
      "Babyfood, mashed cheddar potatoes and broccoli, toddlers (id: 170989, source: SR Legacy)\n",
      "Broccoli, carrots and cheese, baby food, junior (id: 1103752, source: Survey (FNDDS))\n",
      "Broccoli, cauliflower and carrots, cooked, fat added (id: 1103623, source: Survey (FNDDS))\n",
      "Broccoli, cauliflower and carrots, cooked, no added fat (id: 1103622, source: Survey (FNDDS))\n",
      "Broccoli, cooked, boiled, drained, without salt (id: 169967, source: SR Legacy)\n",
      "Flounder with chopped broccoli, diet frozen meal (id: 1100087, source: Survey (FNDDS))\n",
      "Potatoes with cheese and broccoli, baby food, toddler (id: 1103794, source: Survey (FNDDS))\n",
      "Soup, broccoli cheese, canned, condensed, commercial (id: 171178, source: SR Legacy)\n",
      "Broccoli salad with cauliflower, cheese, bacon bits, and dressing (id: 1103383, source: Survey (FNDDS))\n",
      "Broccoli, frozen, chopped, cooked, boiled, drained, with salt (id: 168511, source: SR Legacy)\n",
      "Broccoli, frozen, spears, cooked, boiled, drained, with salt (id: 168512, source: SR Legacy)\n",
      "Broccoli, fresh, cooked, fat added, NS as to fat type (id: 1103175, source: Survey (FNDDS))\n",
      "Broccoli, frozen, cooked, fat added, NS as to fat type (id: 1103176, source: Survey (FNDDS))\n",
      "Broccoli, frozen, chopped, cooked, boiled, drained, without salt (id: 169969, source: SR Legacy)\n",
      "Broccoli, frozen, spears, cooked, boiled, drained, without salt (id: 170380, source: SR Legacy)\n",
      "\n"
     ]
    }
   ],
   "source": [
    "print(client.search_foods('broccoli'))"
   ],
   "metadata": {
    "collapsed": false,
    "pycharm": {
     "name": "#%%\n"
    }
   }
  },
  {
   "cell_type": "code",
   "execution_count": 14,
   "outputs": [
    {
     "data": {
      "text/plain": "{'wweiaFoodCategory': {'wweiaFoodCategoryCode': 6430,\n  'wweiaFoodCategoryDescription': 'Fried vegetables'},\n 'description': 'Fried broccoli',\n 'foodAttributes': [{'id': 998902,\n   'value': 'Fried vegetables',\n   'name': 'WWEIA Category description',\n   'foodAttributeType': {'id': 999,\n    'name': 'Attribute',\n    'description': 'Generic attributes'}},\n  {'id': 990711,\n   'value': '6430',\n   'name': 'WWEIA Category number',\n   'foodAttributeType': {'id': 999,\n    'name': 'Attribute',\n    'description': 'Generic attributes'}},\n  {'id': 976935,\n   'value': 'battered or breaded',\n   'sequenceNumber': 1,\n   'foodAttributeType': {'id': 1001,\n    'name': 'Additional Description',\n    'description': 'Additional descriptions for the food.'}},\n  {'id': 976936,\n   'value': 'broccoli bites',\n   'sequenceNumber': 2,\n   'foodAttributeType': {'id': 1001,\n    'name': 'Additional Description',\n    'description': 'Additional descriptions for the food.'}}],\n 'foodCode': '72202030',\n 'inputFoods': [{'id': 99670,\n   'foodDescription': 'Salt, table, iodized',\n   'ingredientDescription': 'Salt, table, iodized',\n   'ingredientWeight': 0.5,\n   'portionCode': '0',\n   'portionDescription': 'NONE',\n   'sequenceNumber': 4,\n   'ingredientCode': 2047,\n   'unit': 'GM',\n   'amount': 0.5},\n  {'id': 99669,\n   'foodDescription': 'Vegetable oil, NFS',\n   'ingredientDescription': 'Vegetable oil, NFS',\n   'ingredientWeight': 12.0,\n   'portionCode': '0',\n   'portionDescription': 'NONE',\n   'sequenceNumber': 3,\n   'ingredientCode': 82101000,\n   'unit': 'GM',\n   'amount': 12.0,\n   'inputFood': {'fdcId': 1103855,\n    'description': 'Vegetable oil, NFS',\n    'publicationDate': '10/30/2020',\n    'foodAttributeTypes': [],\n    'foodClass': 'Survey',\n    'totalRefuse': 0,\n    'dataType': 'Survey (FNDDS)'}},\n  {'id': 99668,\n   'foodDescription': 'Breading or batter as ingredient in food',\n   'ingredientDescription': 'Breading or batter as ingredient in food',\n   'ingredientWeight': 50.0,\n   'portionCode': '0',\n   'portionDescription': 'NONE',\n   'sequenceNumber': 2,\n   'ingredientCode': 99995000,\n   'unit': 'GM',\n   'amount': 50.0,\n   'inputFood': {'fdcId': 1104571,\n    'description': 'Breading or batter as ingredient in food',\n    'publicationDate': '10/30/2020',\n    'foodAttributeTypes': [],\n    'foodClass': 'Survey',\n    'totalRefuse': 0,\n    'dataType': 'Survey (FNDDS)'}},\n  {'id': 99667,\n   'foodDescription': 'Broccoli, cooked, as ingredient',\n   'ingredientDescription': 'Broccoli, cooked, as ingredient',\n   'ingredientWeight': 38.0,\n   'portionCode': '0',\n   'portionDescription': 'NONE',\n   'sequenceNumber': 1,\n   'ingredientCode': 99997220,\n   'unit': 'GM',\n   'amount': 38.0,\n   'inputFood': {'fdcId': 1104575,\n    'description': 'Broccoli, cooked, as ingredient',\n    'publicationDate': '10/30/2020',\n    'foodAttributeTypes': [],\n    'foodClass': 'Survey',\n    'totalRefuse': 0,\n    'dataType': 'Survey (FNDDS)'}}],\n 'startDate': '1/1/2017',\n 'endDate': '12/31/2018',\n 'foodComponents': [],\n 'foodClass': 'Survey',\n 'fdcId': 1103183,\n 'publicationDate': '10/30/2020',\n 'foodNutrients': [{'nutrient': {'id': 2045,\n    'number': '951',\n    'name': 'Proximates',\n    'rank': 50},\n   'type': 'FoodNutrient'},\n  {'type': 'FoodNutrient',\n   'nutrient': {'id': 1051, 'number': '255', 'name': 'Water', 'rank': 100},\n   'id': 13243968,\n   'amount': 59.23},\n  {'type': 'FoodNutrient',\n   'nutrient': {'id': 1008, 'number': '208', 'name': 'Energy', 'rank': 300},\n   'id': 13243966,\n   'amount': 219.0},\n  {'type': 'FoodNutrient',\n   'nutrient': {'id': 1003, 'number': '203', 'name': 'Protein', 'rank': 600},\n   'id': 13243963,\n   'amount': 4.25},\n  {'type': 'FoodNutrient',\n   'nutrient': {'id': 1004,\n    'number': '204',\n    'name': 'Total lipid (fat)',\n    'rank': 800},\n   'id': 13243964,\n   'amount': 12.78},\n  {'nutrient': {'id': 2039,\n    'number': '956',\n    'name': 'Carbohydrates',\n    'rank': 1100},\n   'type': 'FoodNutrient'},\n  {'type': 'FoodNutrient',\n   'nutrient': {'id': 1005,\n    'number': '205',\n    'name': 'Carbohydrate, by difference',\n    'rank': 1110},\n   'id': 13243965,\n   'amount': 22.34},\n  {'type': 'FoodNutrient',\n   'nutrient': {'id': 1079,\n    'number': '291',\n    'name': 'Fiber, total dietary',\n    'rank': 1200},\n   'id': 13243972,\n   'amount': 1.8},\n  {'type': 'FoodNutrient',\n   'nutrient': {'id': 2000,\n    'number': '269',\n    'name': 'Sugars, total including NLEA',\n    'rank': 1510},\n   'id': 13243971,\n   'amount': 1.01},\n  {'nutrient': {'id': 2043, 'number': '300', 'name': 'Minerals', 'rank': 5200},\n   'type': 'FoodNutrient'},\n  {'type': 'FoodNutrient',\n   'nutrient': {'id': 1087,\n    'number': '301',\n    'name': 'Calcium, Ca',\n    'rank': 5300},\n   'id': 13243973,\n   'amount': 42.0},\n  {'type': 'FoodNutrient',\n   'nutrient': {'id': 1089, 'number': '303', 'name': 'Iron, Fe', 'rank': 5400},\n   'id': 13243974,\n   'amount': 1.59},\n  {'type': 'FoodNutrient',\n   'nutrient': {'id': 1090,\n    'number': '304',\n    'name': 'Magnesium, Mg',\n    'rank': 5500},\n   'id': 13243975,\n   'amount': 15.0},\n  {'type': 'FoodNutrient',\n   'nutrient': {'id': 1091,\n    'number': '305',\n    'name': 'Phosphorus, P',\n    'rank': 5600},\n   'id': 13243976,\n   'amount': 65.0},\n  {'type': 'FoodNutrient',\n   'nutrient': {'id': 1092,\n    'number': '306',\n    'name': 'Potassium, K',\n    'rank': 5700},\n   'id': 13243977,\n   'amount': 160.0},\n  {'type': 'FoodNutrient',\n   'nutrient': {'id': 1093,\n    'number': '307',\n    'name': 'Sodium, Na',\n    'rank': 5800},\n   'id': 13243978,\n   'amount': 328.0},\n  {'type': 'FoodNutrient',\n   'nutrient': {'id': 1095, 'number': '309', 'name': 'Zinc, Zn', 'rank': 5900},\n   'id': 13243979,\n   'amount': 0.41},\n  {'type': 'FoodNutrient',\n   'nutrient': {'id': 1098,\n    'number': '312',\n    'name': 'Copper, Cu',\n    'rank': 6000},\n   'id': 13243980,\n   'amount': 0.066},\n  {'type': 'FoodNutrient',\n   'nutrient': {'id': 1103,\n    'number': '317',\n    'name': 'Selenium, Se',\n    'rank': 6200},\n   'id': 13243981,\n   'amount': 10.2},\n  {'nutrient': {'id': 2046,\n    'number': '952',\n    'name': 'Vitamins and Other Components',\n    'rank': 6250},\n   'type': 'FoodNutrient'},\n  {'type': 'FoodNutrient',\n   'nutrient': {'id': 1162,\n    'number': '401',\n    'name': 'Vitamin C, total ascorbic acid',\n    'rank': 6300},\n   'id': 13243991,\n   'amount': 29.9},\n  {'type': 'FoodNutrient',\n   'nutrient': {'id': 1165, 'number': '404', 'name': 'Thiamin', 'rank': 6400},\n   'id': 13243992,\n   'amount': 0.238},\n  {'type': 'FoodNutrient',\n   'nutrient': {'id': 1166,\n    'number': '405',\n    'name': 'Riboflavin',\n    'rank': 6500},\n   'id': 13243993,\n   'amount': 0.18},\n  {'type': 'FoodNutrient',\n   'nutrient': {'id': 1167, 'number': '406', 'name': 'Niacin', 'rank': 6600},\n   'id': 13243994,\n   'amount': 1.808},\n  {'type': 'FoodNutrient',\n   'nutrient': {'id': 1175,\n    'number': '415',\n    'name': 'Vitamin B-6',\n    'rank': 6800},\n   'id': 13243995,\n   'amount': 0.081},\n  {'type': 'FoodNutrient',\n   'nutrient': {'id': 1177,\n    'number': '417',\n    'name': 'Folate, total',\n    'rank': 6900},\n   'id': 13243996,\n   'amount': 67.0},\n  {'type': 'FoodNutrient',\n   'nutrient': {'id': 1186,\n    'number': '431',\n    'name': 'Folic acid',\n    'rank': 7000},\n   'id': 13244000,\n   'amount': 37.0},\n  {'type': 'FoodNutrient',\n   'nutrient': {'id': 1187,\n    'number': '432',\n    'name': 'Folate, food',\n    'rank': 7100},\n   'id': 13244001,\n   'amount': 30.0},\n  {'type': 'FoodNutrient',\n   'nutrient': {'id': 1190,\n    'number': '435',\n    'name': 'Folate, DFE',\n    'rank': 7200},\n   'id': 13244002,\n   'amount': 92.0},\n  {'type': 'FoodNutrient',\n   'nutrient': {'id': 1180,\n    'number': '421',\n    'name': 'Choline, total',\n    'rank': 7220},\n   'id': 13243998,\n   'amount': 17.9},\n  {'type': 'FoodNutrient',\n   'nutrient': {'id': 1178,\n    'number': '418',\n    'name': 'Vitamin B-12',\n    'rank': 7300},\n   'id': 13243997,\n   'amount': 0.04},\n  {'type': 'FoodNutrient',\n   'nutrient': {'id': 1246,\n    'number': '578',\n    'name': 'Vitamin B-12, added',\n    'rank': 7340},\n   'id': 13244004,\n   'amount': 0.0},\n  {'type': 'FoodNutrient',\n   'nutrient': {'id': 1106,\n    'number': '320',\n    'name': 'Vitamin A, RAE',\n    'rank': 7420},\n   'id': 13243983,\n   'amount': 16.0},\n  {'type': 'FoodNutrient',\n   'nutrient': {'id': 1105, 'number': '319', 'name': 'Retinol', 'rank': 7430},\n   'id': 13243982,\n   'amount': 4.0},\n  {'type': 'FoodNutrient',\n   'nutrient': {'id': 1107,\n    'number': '321',\n    'name': 'Carotene, beta',\n    'rank': 7440},\n   'id': 13243984,\n   'amount': 135.0},\n  {'type': 'FoodNutrient',\n   'nutrient': {'id': 1108,\n    'number': '322',\n    'name': 'Carotene, alpha',\n    'rank': 7450},\n   'id': 13243985,\n   'amount': 9.0},\n  {'type': 'FoodNutrient',\n   'nutrient': {'id': 1120,\n    'number': '334',\n    'name': 'Cryptoxanthin, beta',\n    'rank': 7460},\n   'id': 13243988,\n   'amount': 1.0},\n  {'type': 'FoodNutrient',\n   'nutrient': {'id': 1122, 'number': '337', 'name': 'Lycopene', 'rank': 7530},\n   'id': 13243989,\n   'amount': 0.0},\n  {'type': 'FoodNutrient',\n   'nutrient': {'id': 1123,\n    'number': '338',\n    'name': 'Lutein + zeaxanthin',\n    'rank': 7560},\n   'id': 13243990,\n   'amount': 542.0},\n  {'type': 'FoodNutrient',\n   'nutrient': {'id': 1109,\n    'number': '323',\n    'name': 'Vitamin E (alpha-tocopherol)',\n    'rank': 7905},\n   'id': 13243986,\n   'amount': 1.75},\n  {'type': 'FoodNutrient',\n   'nutrient': {'id': 1242,\n    'number': '573',\n    'name': 'Vitamin E, added',\n    'rank': 7920},\n   'id': 13244003,\n   'amount': 0.0},\n  {'type': 'FoodNutrient',\n   'nutrient': {'id': 1114,\n    'number': '328',\n    'name': 'Vitamin D (D2 + D3)',\n    'rank': 8700},\n   'id': 13243987,\n   'amount': 0.1},\n  {'type': 'FoodNutrient',\n   'nutrient': {'id': 1185,\n    'number': '430',\n    'name': 'Vitamin K (phylloquinone)',\n    'rank': 8800},\n   'id': 13243999,\n   'amount': 54.5},\n  {'nutrient': {'id': 2044, 'number': '950', 'name': 'Lipids', 'rank': 9600},\n   'type': 'FoodNutrient'},\n  {'type': 'FoodNutrient',\n   'nutrient': {'id': 1258,\n    'number': '606',\n    'name': 'Fatty acids, total saturated',\n    'rank': 9700},\n   'id': 13244006,\n   'amount': 1.845},\n  {'type': 'FoodNutrient',\n   'nutrient': {'id': 1259, 'number': '607', 'name': 'SFA 4:0', 'rank': 9800},\n   'id': 13244007,\n   'amount': 0.0},\n  {'type': 'FoodNutrient',\n   'nutrient': {'id': 1260, 'number': '608', 'name': 'SFA 6:0', 'rank': 9900},\n   'id': 13244008,\n   'amount': 0.0},\n  {'type': 'FoodNutrient',\n   'nutrient': {'id': 1261, 'number': '609', 'name': 'SFA 8:0', 'rank': 10000},\n   'id': 13244009,\n   'amount': 0.0},\n  {'type': 'FoodNutrient',\n   'nutrient': {'id': 1262,\n    'number': '610',\n    'name': 'SFA 10:0',\n    'rank': 10100},\n   'id': 13244010,\n   'amount': 0.0},\n  {'type': 'FoodNutrient',\n   'nutrient': {'id': 1263,\n    'number': '611',\n    'name': 'SFA 12:0',\n    'rank': 10300},\n   'id': 13244011,\n   'amount': 0.0},\n  {'type': 'FoodNutrient',\n   'nutrient': {'id': 1264,\n    'number': '612',\n    'name': 'SFA 14:0',\n    'rank': 10500},\n   'id': 13244012,\n   'amount': 0.002},\n  {'type': 'FoodNutrient',\n   'nutrient': {'id': 1265,\n    'number': '613',\n    'name': 'SFA 16:0',\n    'rank': 10700},\n   'id': 13244013,\n   'amount': 1.317},\n  {'type': 'FoodNutrient',\n   'nutrient': {'id': 1266,\n    'number': '614',\n    'name': 'SFA 18:0',\n    'rank': 10900},\n   'id': 13244014,\n   'amount': 0.436},\n  {'type': 'FoodNutrient',\n   'nutrient': {'id': 1292,\n    'number': '645',\n    'name': 'Fatty acids, total monounsaturated',\n    'rank': 11400},\n   'id': 13244026,\n   'amount': 5.171},\n  {'type': 'FoodNutrient',\n   'nutrient': {'id': 1275,\n    'number': '626',\n    'name': 'MUFA 16:1',\n    'rank': 11700},\n   'id': 13244020,\n   'amount': 0.048},\n  {'type': 'FoodNutrient',\n   'nutrient': {'id': 1268,\n    'number': '617',\n    'name': 'MUFA 18:1',\n    'rank': 12100},\n   'id': 13244015,\n   'amount': 5.069},\n  {'type': 'FoodNutrient',\n   'nutrient': {'id': 1277,\n    'number': '628',\n    'name': 'MUFA 20:1',\n    'rank': 12400},\n   'id': 13244022,\n   'amount': 0.049},\n  {'type': 'FoodNutrient',\n   'nutrient': {'id': 1279,\n    'number': '630',\n    'name': 'MUFA 22:1',\n    'rank': 12500},\n   'id': 13244024,\n   'amount': 0.0},\n  {'type': 'FoodNutrient',\n   'nutrient': {'id': 1293,\n    'number': '646',\n    'name': 'Fatty acids, total polyunsaturated',\n    'rank': 12900},\n   'id': 13244027,\n   'amount': 5.191},\n  {'type': 'FoodNutrient',\n   'nutrient': {'id': 1269,\n    'number': '618',\n    'name': 'PUFA 18:2',\n    'rank': 13100},\n   'id': 13244016,\n   'amount': 4.538},\n  {'type': 'FoodNutrient',\n   'nutrient': {'id': 1270,\n    'number': '619',\n    'name': 'PUFA 18:3',\n    'rank': 13900},\n   'id': 13244017,\n   'amount': 0.644},\n  {'type': 'FoodNutrient',\n   'nutrient': {'id': 1276,\n    'number': '627',\n    'name': 'PUFA 18:4',\n    'rank': 14250},\n   'id': 13244021,\n   'amount': 0.0},\n  {'type': 'FoodNutrient',\n   'nutrient': {'id': 1271,\n    'number': '620',\n    'name': 'PUFA 20:4',\n    'rank': 14700},\n   'id': 13244018,\n   'amount': 0.005},\n  {'type': 'FoodNutrient',\n   'nutrient': {'id': 1278,\n    'number': '629',\n    'name': 'PUFA 20:5 n-3 (EPA)',\n    'rank': 15000},\n   'id': 13244023,\n   'amount': 0.0},\n  {'type': 'FoodNutrient',\n   'nutrient': {'id': 1280,\n    'number': '631',\n    'name': 'PUFA 22:5 n-3 (DPA)',\n    'rank': 15200},\n   'id': 13244025,\n   'amount': 0.0},\n  {'type': 'FoodNutrient',\n   'nutrient': {'id': 1272,\n    'number': '621',\n    'name': 'PUFA 22:6 n-3 (DHA)',\n    'rank': 15300},\n   'id': 13244019,\n   'amount': 0.001},\n  {'type': 'FoodNutrient',\n   'nutrient': {'id': 1253,\n    'number': '601',\n    'name': 'Cholesterol',\n    'rank': 15700},\n   'id': 13244005,\n   'amount': 10.0},\n  {'nutrient': {'id': 2042,\n    'number': '500',\n    'name': 'Amino acids',\n    'rank': 16250},\n   'type': 'FoodNutrient'},\n  {'type': 'FoodNutrient',\n   'nutrient': {'id': 1018,\n    'number': '221',\n    'name': 'Alcohol, ethyl',\n    'rank': 18200},\n   'id': 13243967,\n   'amount': 0.0},\n  {'type': 'FoodNutrient',\n   'nutrient': {'id': 1057,\n    'number': '262',\n    'name': 'Caffeine',\n    'rank': 18300},\n   'id': 13243969,\n   'amount': 0.0},\n  {'type': 'FoodNutrient',\n   'nutrient': {'id': 1058,\n    'number': '263',\n    'name': 'Theobromine',\n    'rank': 18400},\n   'id': 13243970,\n   'amount': 0.0}],\n 'foodPortions': [{'id': 239606,\n   'portionDescription': '1 cup',\n   'gramWeight': 85.0,\n   'sequenceNumber': 2,\n   'modifier': '10205',\n   'measureUnit': {'id': 9999,\n    'name': 'undetermined',\n    'abbreviation': 'undetermined'}},\n  {'id': 247631,\n   'portionDescription': '1 floweret',\n   'gramWeight': 13.0,\n   'sequenceNumber': 1,\n   'modifier': '60782',\n   'measureUnit': {'id': 9999,\n    'name': 'undetermined',\n    'abbreviation': 'undetermined'}},\n  {'id': 265943,\n   'portionDescription': 'Quantity not specified',\n   'gramWeight': 43.0,\n   'sequenceNumber': 3,\n   'modifier': '90000',\n   'measureUnit': {'id': 9999,\n    'name': 'undetermined',\n    'abbreviation': 'undetermined'}}],\n 'dataType': 'Survey (FNDDS)'}"
     },
     "execution_count": 14,
     "metadata": {},
     "output_type": "execute_result"
    }
   ],
   "source": [
    "client.get_food(1103183)"
   ],
   "metadata": {
    "collapsed": false,
    "pycharm": {
     "name": "#%%\n"
    }
   }
  },
  {
   "cell_type": "code",
   "execution_count": 12,
   "outputs": [
    {
     "name": "stdout",
     "output_type": "stream",
     "text": [
      "Meal: Default.\n",
      "Ingredients:\n",
      "- 100g of Rice, white, cooked with fat, Puerto Rican style (id: 1101653, source: Survey (FNDDS))\n",
      "- 100g of Fried broccoli (id: 1103183, source: Survey (FNDDS))\n"
     ]
    }
   ],
   "source": [
    "id_amount = {\n",
    "    1101653: 100,\n",
    "    1103183: 100\n",
    "}\n",
    "print(client.get_foods(id_amount))"
   ],
   "metadata": {
    "collapsed": false,
    "pycharm": {
     "name": "#%%\n"
    }
   }
  },
  {
   "cell_type": "code",
   "execution_count": 13,
   "outputs": [
    {
     "ename": "KeyError",
     "evalue": "'unitName'",
     "output_type": "error",
     "traceback": [
      "\u001B[0;31m---------------------------------------------------------------------------\u001B[0m",
      "\u001B[0;31mKeyError\u001B[0m                                  Traceback (most recent call last)",
      "\u001B[0;32m/tmp/ipykernel_59080/834277447.py\u001B[0m in \u001B[0;36m<cell line: 1>\u001B[0;34m()\u001B[0m\n\u001B[0;32m----> 1\u001B[0;31m \u001B[0mdiet\u001B[0m \u001B[0;34m=\u001B[0m \u001B[0mclient\u001B[0m\u001B[0;34m.\u001B[0m\u001B[0mget_meals\u001B[0m\u001B[0;34m(\u001B[0m\u001B[0;34m[\u001B[0m\u001B[0mMeals\u001B[0m\u001B[0;34m.\u001B[0m\u001B[0mBREAD_WITH_CHEESE_AND_FLAX_OIL\u001B[0m\u001B[0;34m,\u001B[0m \u001B[0mMeals\u001B[0m\u001B[0;34m.\u001B[0m\u001B[0mLOTUS\u001B[0m\u001B[0;34m]\u001B[0m \u001B[0;34m+\u001B[0m \u001B[0;34m(\u001B[0m\u001B[0;36m3\u001B[0m \u001B[0;34m*\u001B[0m \u001B[0;34m[\u001B[0m\u001B[0mMeals\u001B[0m\u001B[0;34m.\u001B[0m\u001B[0mLADY_FINGERS\u001B[0m\u001B[0;34m]\u001B[0m\u001B[0;34m)\u001B[0m\u001B[0;34m)\u001B[0m\u001B[0;34m\u001B[0m\u001B[0;34m\u001B[0m\u001B[0m\n\u001B[0m\u001B[1;32m      2\u001B[0m \u001B[0mprint\u001B[0m\u001B[0;34m(\u001B[0m\u001B[0mdiet\u001B[0m\u001B[0;34m)\u001B[0m\u001B[0;34m\u001B[0m\u001B[0;34m\u001B[0m\u001B[0m\n\u001B[1;32m      3\u001B[0m \u001B[0mdiet\u001B[0m\u001B[0;34m.\u001B[0m\u001B[0mprint_nutrients\u001B[0m\u001B[0;34m(\u001B[0m\u001B[0;34m)\u001B[0m\u001B[0;34m\u001B[0m\u001B[0;34m\u001B[0m\u001B[0m\n",
      "\u001B[0;32m~/Workspace/Python/health/src/fdc_client.py\u001B[0m in \u001B[0;36mget_meals\u001B[0;34m(self, meals)\u001B[0m\n\u001B[1;32m     39\u001B[0m \u001B[0;34m\u001B[0m\u001B[0m\n\u001B[1;32m     40\u001B[0m     \u001B[0;32mdef\u001B[0m \u001B[0mget_meals\u001B[0m\u001B[0;34m(\u001B[0m\u001B[0mself\u001B[0m\u001B[0;34m,\u001B[0m \u001B[0mmeals\u001B[0m\u001B[0;34m)\u001B[0m\u001B[0;34m:\u001B[0m\u001B[0;34m\u001B[0m\u001B[0;34m\u001B[0m\u001B[0m\n\u001B[0;32m---> 41\u001B[0;31m         \u001B[0mmea\u001B[0m \u001B[0;34m=\u001B[0m \u001B[0;34m[\u001B[0m\u001B[0mself\u001B[0m\u001B[0;34m.\u001B[0m\u001B[0mget_foods\u001B[0m\u001B[0;34m(\u001B[0m\u001B[0mingredients\u001B[0m\u001B[0;34m,\u001B[0m \u001B[0mname\u001B[0m\u001B[0;34m)\u001B[0m \u001B[0;32mfor\u001B[0m \u001B[0mmeal\u001B[0m \u001B[0;32min\u001B[0m \u001B[0mmeals\u001B[0m \u001B[0;32mfor\u001B[0m \u001B[0mname\u001B[0m\u001B[0;34m,\u001B[0m \u001B[0mingredients\u001B[0m \u001B[0;32min\u001B[0m \u001B[0mmeal\u001B[0m\u001B[0;34m.\u001B[0m\u001B[0mitems\u001B[0m\u001B[0;34m(\u001B[0m\u001B[0;34m)\u001B[0m\u001B[0;34m]\u001B[0m\u001B[0;34m\u001B[0m\u001B[0;34m\u001B[0m\u001B[0m\n\u001B[0m\u001B[1;32m     42\u001B[0m         \u001B[0;32mreturn\u001B[0m \u001B[0mDiet\u001B[0m\u001B[0;34m(\u001B[0m\u001B[0mmea\u001B[0m\u001B[0;34m)\u001B[0m\u001B[0;34m\u001B[0m\u001B[0;34m\u001B[0m\u001B[0m\n",
      "\u001B[0;32m~/Workspace/Python/health/src/fdc_client.py\u001B[0m in \u001B[0;36m<listcomp>\u001B[0;34m(.0)\u001B[0m\n\u001B[1;32m     39\u001B[0m \u001B[0;34m\u001B[0m\u001B[0m\n\u001B[1;32m     40\u001B[0m     \u001B[0;32mdef\u001B[0m \u001B[0mget_meals\u001B[0m\u001B[0;34m(\u001B[0m\u001B[0mself\u001B[0m\u001B[0;34m,\u001B[0m \u001B[0mmeals\u001B[0m\u001B[0;34m)\u001B[0m\u001B[0;34m:\u001B[0m\u001B[0;34m\u001B[0m\u001B[0;34m\u001B[0m\u001B[0m\n\u001B[0;32m---> 41\u001B[0;31m         \u001B[0mmea\u001B[0m \u001B[0;34m=\u001B[0m \u001B[0;34m[\u001B[0m\u001B[0mself\u001B[0m\u001B[0;34m.\u001B[0m\u001B[0mget_foods\u001B[0m\u001B[0;34m(\u001B[0m\u001B[0mingredients\u001B[0m\u001B[0;34m,\u001B[0m \u001B[0mname\u001B[0m\u001B[0;34m)\u001B[0m \u001B[0;32mfor\u001B[0m \u001B[0mmeal\u001B[0m \u001B[0;32min\u001B[0m \u001B[0mmeals\u001B[0m \u001B[0;32mfor\u001B[0m \u001B[0mname\u001B[0m\u001B[0;34m,\u001B[0m \u001B[0mingredients\u001B[0m \u001B[0;32min\u001B[0m \u001B[0mmeal\u001B[0m\u001B[0;34m.\u001B[0m\u001B[0mitems\u001B[0m\u001B[0;34m(\u001B[0m\u001B[0;34m)\u001B[0m\u001B[0;34m]\u001B[0m\u001B[0;34m\u001B[0m\u001B[0;34m\u001B[0m\u001B[0m\n\u001B[0m\u001B[1;32m     42\u001B[0m         \u001B[0;32mreturn\u001B[0m \u001B[0mDiet\u001B[0m\u001B[0;34m(\u001B[0m\u001B[0mmea\u001B[0m\u001B[0;34m)\u001B[0m\u001B[0;34m\u001B[0m\u001B[0;34m\u001B[0m\u001B[0m\n",
      "\u001B[0;32m~/Workspace/Python/health/src/fdc_client.py\u001B[0m in \u001B[0;36mget_foods\u001B[0;34m(self, id_amount_dict, name)\u001B[0m\n\u001B[1;32m     36\u001B[0m         )\n\u001B[1;32m     37\u001B[0m         \u001B[0mquery_result\u001B[0m \u001B[0;34m=\u001B[0m \u001B[0mself\u001B[0m\u001B[0;34m.\u001B[0m\u001B[0mcall\u001B[0m\u001B[0;34m(\u001B[0m\u001B[0mparams\u001B[0m\u001B[0;34m,\u001B[0m \u001B[0;34m'/foods'\u001B[0m\u001B[0;34m)\u001B[0m\u001B[0;34m\u001B[0m\u001B[0;34m\u001B[0m\u001B[0m\n\u001B[0;32m---> 38\u001B[0;31m         \u001B[0;32mreturn\u001B[0m \u001B[0mparse_get_results\u001B[0m\u001B[0;34m(\u001B[0m\u001B[0mquery_result\u001B[0m\u001B[0;34m,\u001B[0m \u001B[0mid_amount_dict\u001B[0m\u001B[0;34m.\u001B[0m\u001B[0mvalues\u001B[0m\u001B[0;34m(\u001B[0m\u001B[0;34m)\u001B[0m\u001B[0;34m,\u001B[0m \u001B[0mname\u001B[0m\u001B[0;34m)\u001B[0m\u001B[0;34m\u001B[0m\u001B[0;34m\u001B[0m\u001B[0m\n\u001B[0m\u001B[1;32m     39\u001B[0m \u001B[0;34m\u001B[0m\u001B[0m\n\u001B[1;32m     40\u001B[0m     \u001B[0;32mdef\u001B[0m \u001B[0mget_meals\u001B[0m\u001B[0;34m(\u001B[0m\u001B[0mself\u001B[0m\u001B[0;34m,\u001B[0m \u001B[0mmeals\u001B[0m\u001B[0;34m)\u001B[0m\u001B[0;34m:\u001B[0m\u001B[0;34m\u001B[0m\u001B[0;34m\u001B[0m\u001B[0m\n",
      "\u001B[0;32m~/Workspace/Python/health/src/fdc_parse_utils.py\u001B[0m in \u001B[0;36mparse_get_results\u001B[0;34m(foods, amounts, name)\u001B[0m\n\u001B[1;32m     34\u001B[0m \u001B[0;34m\u001B[0m\u001B[0m\n\u001B[1;32m     35\u001B[0m \u001B[0;32mdef\u001B[0m \u001B[0mparse_get_results\u001B[0m\u001B[0;34m(\u001B[0m\u001B[0mfoods\u001B[0m\u001B[0;34m,\u001B[0m \u001B[0mamounts\u001B[0m\u001B[0;34m,\u001B[0m \u001B[0mname\u001B[0m\u001B[0;34m)\u001B[0m\u001B[0;34m:\u001B[0m\u001B[0;34m\u001B[0m\u001B[0;34m\u001B[0m\u001B[0m\n\u001B[0;32m---> 36\u001B[0;31m     \u001B[0;32mreturn\u001B[0m \u001B[0mMeal\u001B[0m\u001B[0;34m(\u001B[0m\u001B[0;34m{\u001B[0m\u001B[0mparse_food\u001B[0m\u001B[0;34m(\u001B[0m\u001B[0mfood\u001B[0m\u001B[0;34m)\u001B[0m\u001B[0;34m:\u001B[0m \u001B[0mamount\u001B[0m \u001B[0;32mfor\u001B[0m \u001B[0mfood\u001B[0m\u001B[0;34m,\u001B[0m \u001B[0mamount\u001B[0m \u001B[0;32min\u001B[0m \u001B[0mzip\u001B[0m\u001B[0;34m(\u001B[0m\u001B[0mfoods\u001B[0m\u001B[0;34m,\u001B[0m \u001B[0mamounts\u001B[0m\u001B[0;34m)\u001B[0m\u001B[0;34m}\u001B[0m\u001B[0;34m,\u001B[0m \u001B[0mname\u001B[0m\u001B[0;34m)\u001B[0m\u001B[0;34m\u001B[0m\u001B[0;34m\u001B[0m\u001B[0m\n\u001B[0m",
      "\u001B[0;32m~/Workspace/Python/health/src/fdc_parse_utils.py\u001B[0m in \u001B[0;36m<dictcomp>\u001B[0;34m(.0)\u001B[0m\n\u001B[1;32m     34\u001B[0m \u001B[0;34m\u001B[0m\u001B[0m\n\u001B[1;32m     35\u001B[0m \u001B[0;32mdef\u001B[0m \u001B[0mparse_get_results\u001B[0m\u001B[0;34m(\u001B[0m\u001B[0mfoods\u001B[0m\u001B[0;34m,\u001B[0m \u001B[0mamounts\u001B[0m\u001B[0;34m,\u001B[0m \u001B[0mname\u001B[0m\u001B[0;34m)\u001B[0m\u001B[0;34m:\u001B[0m\u001B[0;34m\u001B[0m\u001B[0;34m\u001B[0m\u001B[0m\n\u001B[0;32m---> 36\u001B[0;31m     \u001B[0;32mreturn\u001B[0m \u001B[0mMeal\u001B[0m\u001B[0;34m(\u001B[0m\u001B[0;34m{\u001B[0m\u001B[0mparse_food\u001B[0m\u001B[0;34m(\u001B[0m\u001B[0mfood\u001B[0m\u001B[0;34m)\u001B[0m\u001B[0;34m:\u001B[0m \u001B[0mamount\u001B[0m \u001B[0;32mfor\u001B[0m \u001B[0mfood\u001B[0m\u001B[0;34m,\u001B[0m \u001B[0mamount\u001B[0m \u001B[0;32min\u001B[0m \u001B[0mzip\u001B[0m\u001B[0;34m(\u001B[0m\u001B[0mfoods\u001B[0m\u001B[0;34m,\u001B[0m \u001B[0mamounts\u001B[0m\u001B[0;34m)\u001B[0m\u001B[0;34m}\u001B[0m\u001B[0;34m,\u001B[0m \u001B[0mname\u001B[0m\u001B[0;34m)\u001B[0m\u001B[0;34m\u001B[0m\u001B[0;34m\u001B[0m\u001B[0m\n\u001B[0m",
      "\u001B[0;32m~/Workspace/Python/health/src/fdc_parse_utils.py\u001B[0m in \u001B[0;36mparse_food\u001B[0;34m(food)\u001B[0m\n\u001B[1;32m     14\u001B[0m \u001B[0;34m\u001B[0m\u001B[0m\n\u001B[1;32m     15\u001B[0m \u001B[0;32mdef\u001B[0m \u001B[0mparse_food\u001B[0m\u001B[0;34m(\u001B[0m\u001B[0mfood\u001B[0m\u001B[0;34m)\u001B[0m\u001B[0;34m:\u001B[0m\u001B[0;34m\u001B[0m\u001B[0;34m\u001B[0m\u001B[0m\n\u001B[0;32m---> 16\u001B[0;31m     \u001B[0;32mreturn\u001B[0m \u001B[0mFood\u001B[0m\u001B[0;34m(\u001B[0m\u001B[0mfood\u001B[0m\u001B[0;34m[\u001B[0m\u001B[0;34m'fdcId'\u001B[0m\u001B[0;34m]\u001B[0m\u001B[0;34m,\u001B[0m \u001B[0mfood\u001B[0m\u001B[0;34m[\u001B[0m\u001B[0;34m'description'\u001B[0m\u001B[0;34m]\u001B[0m\u001B[0;34m,\u001B[0m \u001B[0mfood\u001B[0m\u001B[0;34m[\u001B[0m\u001B[0;34m'dataType'\u001B[0m\u001B[0;34m]\u001B[0m\u001B[0;34m,\u001B[0m \u001B[0mparse_food_nutrients\u001B[0m\u001B[0;34m(\u001B[0m\u001B[0mfood\u001B[0m\u001B[0;34m[\u001B[0m\u001B[0;34m'foodNutrients'\u001B[0m\u001B[0;34m]\u001B[0m\u001B[0;34m)\u001B[0m\u001B[0;34m)\u001B[0m\u001B[0;34m\u001B[0m\u001B[0;34m\u001B[0m\u001B[0m\n\u001B[0m\u001B[1;32m     17\u001B[0m \u001B[0;34m\u001B[0m\u001B[0m\n\u001B[1;32m     18\u001B[0m \u001B[0;34m\u001B[0m\u001B[0m\n",
      "\u001B[0;32m~/Workspace/Python/health/src/fdc_parse_utils.py\u001B[0m in \u001B[0;36mparse_food_nutrients\u001B[0;34m(food_nutrients)\u001B[0m\n\u001B[1;32m     10\u001B[0m \u001B[0;34m\u001B[0m\u001B[0m\n\u001B[1;32m     11\u001B[0m \u001B[0;32mdef\u001B[0m \u001B[0mparse_food_nutrients\u001B[0m\u001B[0;34m(\u001B[0m\u001B[0mfood_nutrients\u001B[0m\u001B[0;34m)\u001B[0m\u001B[0;34m:\u001B[0m\u001B[0;34m\u001B[0m\u001B[0;34m\u001B[0m\u001B[0m\n\u001B[0;32m---> 12\u001B[0;31m     \u001B[0;32mreturn\u001B[0m \u001B[0;34m{\u001B[0m\u001B[0mparse_nutrient\u001B[0m\u001B[0;34m(\u001B[0m\u001B[0mfood_nutrient\u001B[0m\u001B[0;34m[\u001B[0m\u001B[0;34m'nutrient'\u001B[0m\u001B[0;34m]\u001B[0m\u001B[0;34m)\u001B[0m\u001B[0;34m:\u001B[0m \u001B[0mfood_nutrient\u001B[0m\u001B[0;34m[\u001B[0m\u001B[0;34m'amount'\u001B[0m\u001B[0;34m]\u001B[0m \u001B[0;32mfor\u001B[0m \u001B[0mfood_nutrient\u001B[0m \u001B[0;32min\u001B[0m \u001B[0mfood_nutrients\u001B[0m \u001B[0;32mif\u001B[0m \u001B[0;34m'id'\u001B[0m \u001B[0;32min\u001B[0m \u001B[0mfood_nutrient\u001B[0m\u001B[0;34m}\u001B[0m\u001B[0;34m\u001B[0m\u001B[0;34m\u001B[0m\u001B[0m\n\u001B[0m\u001B[1;32m     13\u001B[0m \u001B[0;34m\u001B[0m\u001B[0m\n\u001B[1;32m     14\u001B[0m \u001B[0;34m\u001B[0m\u001B[0m\n",
      "\u001B[0;32m~/Workspace/Python/health/src/fdc_parse_utils.py\u001B[0m in \u001B[0;36m<dictcomp>\u001B[0;34m(.0)\u001B[0m\n\u001B[1;32m     10\u001B[0m \u001B[0;34m\u001B[0m\u001B[0m\n\u001B[1;32m     11\u001B[0m \u001B[0;32mdef\u001B[0m \u001B[0mparse_food_nutrients\u001B[0m\u001B[0;34m(\u001B[0m\u001B[0mfood_nutrients\u001B[0m\u001B[0;34m)\u001B[0m\u001B[0;34m:\u001B[0m\u001B[0;34m\u001B[0m\u001B[0;34m\u001B[0m\u001B[0m\n\u001B[0;32m---> 12\u001B[0;31m     \u001B[0;32mreturn\u001B[0m \u001B[0;34m{\u001B[0m\u001B[0mparse_nutrient\u001B[0m\u001B[0;34m(\u001B[0m\u001B[0mfood_nutrient\u001B[0m\u001B[0;34m[\u001B[0m\u001B[0;34m'nutrient'\u001B[0m\u001B[0;34m]\u001B[0m\u001B[0;34m)\u001B[0m\u001B[0;34m:\u001B[0m \u001B[0mfood_nutrient\u001B[0m\u001B[0;34m[\u001B[0m\u001B[0;34m'amount'\u001B[0m\u001B[0;34m]\u001B[0m \u001B[0;32mfor\u001B[0m \u001B[0mfood_nutrient\u001B[0m \u001B[0;32min\u001B[0m \u001B[0mfood_nutrients\u001B[0m \u001B[0;32mif\u001B[0m \u001B[0;34m'id'\u001B[0m \u001B[0;32min\u001B[0m \u001B[0mfood_nutrient\u001B[0m\u001B[0;34m}\u001B[0m\u001B[0;34m\u001B[0m\u001B[0;34m\u001B[0m\u001B[0m\n\u001B[0m\u001B[1;32m     13\u001B[0m \u001B[0;34m\u001B[0m\u001B[0m\n\u001B[1;32m     14\u001B[0m \u001B[0;34m\u001B[0m\u001B[0m\n",
      "\u001B[0;32m~/Workspace/Python/health/src/fdc_parse_utils.py\u001B[0m in \u001B[0;36mparse_nutrient\u001B[0;34m(food_nutrient)\u001B[0m\n\u001B[1;32m      6\u001B[0m \u001B[0;34m\u001B[0m\u001B[0m\n\u001B[1;32m      7\u001B[0m \u001B[0;32mdef\u001B[0m \u001B[0mparse_nutrient\u001B[0m\u001B[0;34m(\u001B[0m\u001B[0mfood_nutrient\u001B[0m\u001B[0;34m)\u001B[0m\u001B[0;34m:\u001B[0m\u001B[0;34m\u001B[0m\u001B[0;34m\u001B[0m\u001B[0m\n\u001B[0;32m----> 8\u001B[0;31m     \u001B[0;32mreturn\u001B[0m \u001B[0mNutrient\u001B[0m\u001B[0;34m(\u001B[0m\u001B[0mfood_nutrient\u001B[0m\u001B[0;34m)\u001B[0m\u001B[0;34m\u001B[0m\u001B[0;34m\u001B[0m\u001B[0m\n\u001B[0m\u001B[1;32m      9\u001B[0m \u001B[0;34m\u001B[0m\u001B[0m\n\u001B[1;32m     10\u001B[0m \u001B[0;34m\u001B[0m\u001B[0m\n",
      "\u001B[0;32m~/Workspace/Python/health/src/objects/nutritient.py\u001B[0m in \u001B[0;36m__init__\u001B[0;34m(self, nutrient_data)\u001B[0m\n\u001B[1;32m      4\u001B[0m         \u001B[0mself\u001B[0m\u001B[0;34m.\u001B[0m\u001B[0mid\u001B[0m \u001B[0;34m=\u001B[0m \u001B[0mnutrient_data\u001B[0m\u001B[0;34m[\u001B[0m\u001B[0;34m'id'\u001B[0m\u001B[0;34m]\u001B[0m\u001B[0;34m\u001B[0m\u001B[0;34m\u001B[0m\u001B[0m\n\u001B[1;32m      5\u001B[0m         \u001B[0mself\u001B[0m\u001B[0;34m.\u001B[0m\u001B[0mname\u001B[0m \u001B[0;34m=\u001B[0m \u001B[0mnutrient_data\u001B[0m\u001B[0;34m[\u001B[0m\u001B[0;34m'name'\u001B[0m\u001B[0;34m]\u001B[0m\u001B[0;34m\u001B[0m\u001B[0;34m\u001B[0m\u001B[0m\n\u001B[0;32m----> 6\u001B[0;31m         \u001B[0mself\u001B[0m\u001B[0;34m.\u001B[0m\u001B[0munit\u001B[0m \u001B[0;34m=\u001B[0m \u001B[0mnutrient_data\u001B[0m\u001B[0;34m[\u001B[0m\u001B[0;34m'unitName'\u001B[0m\u001B[0;34m]\u001B[0m\u001B[0;34m\u001B[0m\u001B[0;34m\u001B[0m\u001B[0m\n\u001B[0m\u001B[1;32m      7\u001B[0m \u001B[0;34m\u001B[0m\u001B[0m\n\u001B[1;32m      8\u001B[0m     \u001B[0;32mdef\u001B[0m \u001B[0m__hash__\u001B[0m\u001B[0;34m(\u001B[0m\u001B[0mself\u001B[0m\u001B[0;34m)\u001B[0m\u001B[0;34m:\u001B[0m\u001B[0;34m\u001B[0m\u001B[0;34m\u001B[0m\u001B[0m\n",
      "\u001B[0;31mKeyError\u001B[0m: 'unitName'"
     ]
    }
   ],
   "source": [
    "diet = client.get_meals([Meals.BREAD_WITH_CHEESE_AND_FLAX_OIL, Meals.LOTUS] + (3 * [Meals.LADY_FINGERS]))\n",
    "print(diet)\n",
    "diet.print_nutrients()"
   ],
   "metadata": {
    "collapsed": false,
    "pycharm": {
     "name": "#%%\n"
    }
   }
  }
 ],
 "metadata": {
  "kernelspec": {
   "display_name": "Python 3",
   "language": "python",
   "name": "python3"
  },
  "language_info": {
   "codemirror_mode": {
    "name": "ipython",
    "version": 2
   },
   "file_extension": ".py",
   "mimetype": "text/x-python",
   "name": "python",
   "nbconvert_exporter": "python",
   "pygments_lexer": "ipython2",
   "version": "2.7.6"
  }
 },
 "nbformat": 4,
 "nbformat_minor": 0
}